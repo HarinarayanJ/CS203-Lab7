{
 "cells": [
  {
   "cell_type": "markdown",
   "metadata": {},
   "source": [
    "Group 12 </br>\n",
    "Harinarayan J (23110128) and Vyomika Vasireddy (23110363) </br>\n",
    "Lab - 7"
   ]
  },
  {
   "cell_type": "markdown",
   "metadata": {},
   "source": [
    "### 1. Dataset Preparation"
   ]
  },
  {
   "cell_type": "code",
   "execution_count": 4,
   "metadata": {},
   "outputs": [
    {
     "name": "stderr",
     "output_type": "stream",
     "text": [
      "  % Total    % Received % Xferd  Average Speed   Time    Time     Time  Current\n",
      "                                 Dload  Upload   Total   Spent    Left  Speed\n",
      "\n",
      "  0     0    0     0    0     0      0      0 --:--:-- --:--:-- --:--:--     0\n",
      "  0  703k    0     0    0     0      0      0 --:--:-- --:--:-- --:--:--     0\n",
      "100  703k  100  703k    0     0   477k      0  0:00:01  0:00:01 --:--:--  477k\n",
      "  % Total    % Received % Xferd  Average Speed   Time    Time     Time  Current\n",
      "                                 Dload  Upload   Total   Spent    Left  Speed\n",
      "\n",
      "  0     0    0     0    0     0      0      0 --:--:-- --:--:-- --:--:--     0\n",
      "  0     0    0     0    0     0      0      0 --:--:-- --:--:-- --:--:--     0\n",
      " 94  184k   94  174k    0     0   151k      0  0:00:01  0:00:01 --:--:--  151k\n",
      "100  184k  100  184k    0     0   160k      0  0:00:01  0:00:01 --:--:--  160k\n",
      "  % Total    % Received % Xferd  Average Speed   Time    Time     Time  Current\n",
      "                                 Dload  Upload   Total   Spent    Left  Speed\n",
      "\n",
      "  0     0    0     0    0     0      0      0 --:--:-- --:--:-- --:--:--     0\n",
      "  0 63.1M    0  272k    0     0   288k      0  0:03:44 --:--:--  0:03:44  288k\n",
      "  1 63.1M    1  976k    0     0   501k      0  0:02:08  0:00:01  0:02:07  502k\n",
      "  2 63.1M    2 1904k    0     0   646k      0  0:01:39  0:00:02  0:01:37  647k\n",
      "  5 63.1M    5 3456k    0     0   876k      0  0:01:13  0:00:03  0:01:10  876k\n",
      "  7 63.1M    7 5136k    0     0  1039k      0  0:01:02  0:00:04  0:00:58 1039k\n",
      " 10 63.1M   10 6608k    0     0  1112k      0  0:00:58  0:00:05  0:00:53 1268k\n",
      " 11 63.1M   11 7520k    0     0  1082k      0  0:00:59  0:00:06  0:00:53 1308k\n",
      " 13 63.1M   13 8576k    0     0  1079k      0  0:00:59  0:00:07  0:00:52 1334k\n",
      " 15 63.1M   15 9712k    0     0  1085k      0  0:00:59  0:00:08  0:00:51 1251k\n",
      " 16 63.1M   16 10.6M    0     0  1098k      0  0:00:58  0:00:09  0:00:49 1156k\n",
      " 18 63.1M   18 11.8M    0     0  1111k      0  0:00:58  0:00:10  0:00:48 1108k\n",
      " 19 63.1M   19 12.5M    0     0  1076k      0  0:01:00  0:00:11  0:00:49 1067k\n",
      " 20 63.1M   20 13.1M    0     0  1041k      0  0:01:02  0:00:12  0:00:50  982k\n",
      " 21 63.1M   21 13.8M    0     0  1018k      0  0:01:03  0:00:13  0:00:50  899k\n",
      " 23 63.1M   23 14.8M    0     0  1016k      0  0:01:03  0:00:14  0:00:49  853k\n",
      " 25 63.1M   25 15.7M    0     0  1014k      0  0:01:03  0:00:15  0:00:48  803k\n",
      " 26 63.1M   26 16.7M    0     0  1014k      0  0:01:03  0:00:16  0:00:47  866k\n",
      " 27 63.1M   27 17.6M    0     0  1005k      0  0:01:04  0:00:17  0:00:47  912k\n",
      " 29 63.1M   29 18.5M    0     0   999k      0  0:01:04  0:00:18  0:00:46  946k\n",
      " 31 63.1M   31 19.8M    0     0  1018k      0  0:01:03  0:00:19  0:00:44 1025k\n",
      " 33 63.1M   33 20.8M    0     0  1021k      0  0:01:03  0:00:20  0:00:43 1042k\n",
      " 35 63.1M   35 22.4M    0     0  1045k      0  0:01:01  0:00:21  0:00:40 1153k\n",
      " 37 63.1M   37 23.3M    0     0  1025k      0  0:01:03  0:00:23  0:00:40 1088k\n",
      " 37 63.1M   37 23.9M    0     0  1023k      0  0:01:03  0:00:24  0:00:39 1109k\n",
      " 41 63.1M   41 26.2M    0     0  1075k      0  0:01:00  0:00:24  0:00:36 1304k\n",
      " 46 63.1M   46 29.1M    0     0  1148k      0  0:00:56  0:00:25  0:00:31 1684k\n",
      " 50 63.1M   50 32.0M    0     0  1218k      0  0:00:53  0:00:26  0:00:27 1976k\n",
      " 55 63.1M   55 34.9M    0     0  1281k      0  0:00:50  0:00:27  0:00:23 2584k\n",
      " 60 63.1M   60 37.9M    0     0  1342k      0  0:00:48  0:00:28  0:00:20 2899k\n",
      " 65 63.1M   65 41.0M    0     0  1405k      0  0:00:46  0:00:29  0:00:17 3047k\n",
      " 70 63.1M   70 44.2M    0     0  1463k      0  0:00:44  0:00:30  0:00:14 3095k\n",
      " 75 63.1M   75 47.5M    0     0  1522k      0  0:00:42  0:00:31  0:00:11 3160k\n",
      " 80 63.1M   80 50.9M    0     0  1584k      0  0:00:40  0:00:32  0:00:08 3277k\n",
      " 86 63.1M   86 54.7M    0     0  1652k      0  0:00:39  0:00:33  0:00:06 3441k\n",
      " 93 63.1M   93 59.2M    0     0  1736k      0  0:00:37  0:00:34  0:00:03 3723k\n",
      "100 63.1M  100 63.1M    0     0  1809k      0  0:00:35  0:00:35 --:--:-- 4051k\n"
     ]
    }
   ],
   "source": [
    "!curl https://raw.githubusercontent.com/clairett/pytorch-sentiment-classification/master/data/SST2/train.tsv -o train.tsv \n",
    "!curl https://raw.githubusercontent.com/clairett/pytorch-sentiment-classification/master/data/SST2/test.tsv -o test.tsv \n",
    "!curl https://raw.githubusercontent.com/Ankit152/IMDB-sentiment-analysis/master/IMDB-Dataset.csv -o imdb.csv"
   ]
  },
  {
   "cell_type": "code",
   "execution_count": 1,
   "metadata": {},
   "outputs": [],
   "source": [
    "# Imports\n",
    "\n",
    "import numpy as np\n",
    "import pandas as pd\n",
    "import matplotlib.pyplot as plt\n",
    "from sklearn.model_selection import train_test_split\n"
   ]
  },
  {
   "cell_type": "code",
   "execution_count": 2,
   "metadata": {},
   "outputs": [],
   "source": [
    "# Data preparation for first dataset\n",
    "train = pd.read_csv(\"train.tsv\", sep=\"\\t\")\n",
    "test = pd.read_csv(\"test.tsv\", sep=\"\\t\")\n",
    "\n",
    "X = train.iloc[:, 0]\n",
    "Y = train.iloc[:, 1]\n",
    "\n",
    "X_t = test.iloc[:, 0]\n",
    "Y_t = test.iloc[:, 1]\n",
    "\n",
    "X_tr, X_val, Y_tr, Y_val = train_test_split(X, Y, test_size=0.2, random_state=42)"
   ]
  },
  {
   "cell_type": "code",
   "execution_count": 3,
   "metadata": {},
   "outputs": [
    {
     "name": "stdout",
     "output_type": "stream",
     "text": [
      "(5535,) (1384,) (1820,)\n",
      "(5535,) (1384,) (1820,)\n"
     ]
    }
   ],
   "source": [
    "print(X_tr.shape, X_val.shape, X_t.shape)\n",
    "print(Y_tr.shape, Y_val.shape, Y_t.shape)"
   ]
  },
  {
   "cell_type": "markdown",
   "metadata": {},
   "source": [
    "### 2. Multi-Layer Perceptron Model"
   ]
  },
  {
   "cell_type": "code",
   "execution_count": 4,
   "metadata": {},
   "outputs": [],
   "source": [
    "# Imports\n",
    "\n",
    "import torch \n",
    "import torch.nn as nn\n",
    "from torch.optim import Adam\n",
    "from torch.nn import CrossEntropyLoss\n",
    "from torchsummary import summary\n",
    "from torch.utils.data import Dataset, DataLoader, TensorDataset\n",
    "from torch.utils.tensorboard import SummaryWriter\n",
    "\n",
    "from transformers import DistilBertTokenizer, DistilBertModel, AutoTokenizer, AutoModel"
   ]
  },
  {
   "cell_type": "code",
   "execution_count": 5,
   "metadata": {},
   "outputs": [],
   "source": [
    "device = torch.device('cuda' if torch.cuda.is_available() else 'cpu')"
   ]
  },
  {
   "cell_type": "code",
   "execution_count": 7,
   "metadata": {},
   "outputs": [],
   "source": [
    "# MLP Class with hidden sizes [512, 256, 128, 64] \n",
    "\n",
    "class MLP(nn.Module):\n",
    "    def __init__(self):\n",
    "        super(MLP, self).__init__()\n",
    "        \n",
    "        self.l1 = nn.Linear(10000, 512)\n",
    "        self.l2 = nn.Linear(512, 256)\n",
    "        self.l3 = nn.Linear(256, 128)\n",
    "        self.l4 = nn.Linear(128, 64)\n",
    "\n",
    "        self.o = nn.Linear(64, 2)\n",
    "\n",
    "        self.activation = nn.ReLU()\n",
    "        self.dropout = nn.Dropout(0.3)\n",
    "\n",
    "    def forward(self, x):\n",
    "        x = self.activation(self.l1(x))\n",
    "        x = self.dropout(x)\n",
    "        x = self.activation(self.l2(x))\n",
    "        x = self.dropout(x)\n",
    "        x = self.activation(self.l3(x))\n",
    "        x = self.dropout(x)\n",
    "        x = self.activation(self.l4(x))\n",
    "        x = self.o(x)\n",
    "        return x"
   ]
  },
  {
   "cell_type": "code",
   "execution_count": 53,
   "metadata": {},
   "outputs": [
    {
     "name": "stdout",
     "output_type": "stream",
     "text": [
      "MLP(\n",
      "  (l1): Linear(in_features=10000, out_features=512, bias=True)\n",
      "  (l2): Linear(in_features=512, out_features=256, bias=True)\n",
      "  (l3): Linear(in_features=256, out_features=128, bias=True)\n",
      "  (l4): Linear(in_features=128, out_features=64, bias=True)\n",
      "  (o): Linear(in_features=64, out_features=2, bias=True)\n",
      "  (activation): ReLU()\n",
      "  (dropout): Dropout(p=0.3, inplace=False)\n",
      ")\n",
      "----------------------------------------------------------------\n",
      "        Layer (type)               Output Shape         Param #\n",
      "================================================================\n",
      "            Linear-1               [-1, 1, 512]       5,120,512\n",
      "              ReLU-2               [-1, 1, 512]               0\n",
      "           Dropout-3               [-1, 1, 512]               0\n",
      "            Linear-4               [-1, 1, 256]         131,328\n",
      "              ReLU-5               [-1, 1, 256]               0\n",
      "           Dropout-6               [-1, 1, 256]               0\n",
      "            Linear-7               [-1, 1, 128]          32,896\n",
      "              ReLU-8               [-1, 1, 128]               0\n",
      "           Dropout-9               [-1, 1, 128]               0\n",
      "           Linear-10                [-1, 1, 64]           8,256\n",
      "             ReLU-11                [-1, 1, 64]               0\n",
      "           Linear-12                 [-1, 1, 2]             130\n",
      "================================================================\n",
      "Total params: 5,293,122\n",
      "Trainable params: 5,293,122\n",
      "Non-trainable params: 0\n",
      "----------------------------------------------------------------\n",
      "Input size (MB): 0.04\n",
      "Forward/backward pass size (MB): 0.02\n",
      "Params size (MB): 20.19\n",
      "Estimated Total Size (MB): 20.25\n",
      "----------------------------------------------------------------\n"
     ]
    }
   ],
   "source": [
    "# Initialize model and print summary\n",
    "model = MLP().to(device)\n",
    "print(model)\n",
    "summary(model, (1, 10000))"
   ]
  },
  {
   "cell_type": "code",
   "execution_count": 54,
   "metadata": {},
   "outputs": [],
   "source": [
    "# Criterion and Optim\n",
    "\n",
    "criterion = CrossEntropyLoss()\n",
    "op = Adam(model.parameters(), lr=0.0001)"
   ]
  },
  {
   "cell_type": "markdown",
   "metadata": {},
   "source": [
    "### 3. Case 1: Bag of Words"
   ]
  },
  {
   "cell_type": "code",
   "execution_count": 55,
   "metadata": {},
   "outputs": [],
   "source": [
    "# Imports \n",
    "from sklearn.feature_extraction.text import CountVectorizer\n",
    "from sklearn.metrics import accuracy_score, f1_score, precision_score, recall_score, confusion_matrix\n",
    "\n",
    "import pickle\n",
    "import gzip\n",
    "\n",
    "from tqdm.notebook import tqdm"
   ]
  },
  {
   "cell_type": "code",
   "execution_count": 56,
   "metadata": {},
   "outputs": [],
   "source": [
    "# Saving the checkpoint using pickle and gzip\n",
    "\n",
    "def checkpoint(model, path):\n",
    "    c = {\"model_state\" : model.state_dict()}\n",
    "    with gzip.open(path, \"wb\") as f:\n",
    "        pickle.dump(c, f)\n",
    "    print(\"Checkpoint saved at\", path)\n",
    "    "
   ]
  },
  {
   "cell_type": "code",
   "execution_count": 57,
   "metadata": {},
   "outputs": [],
   "source": [
    "# Loading the checkpoint\n",
    "\n",
    "def load(model, path):\n",
    "    with gzip.open(path, \"rb\") as f:\n",
    "        c = pickle.load(f)\n",
    "    model.load_state_dict(c[\"model_state\"])\n",
    "    print(\"Checkpoint loaded from\", path)"
   ]
  },
  {
   "cell_type": "code",
   "execution_count": 58,
   "metadata": {},
   "outputs": [],
   "source": [
    "# Creating a vectorizer\n",
    "\n",
    "vec = CountVectorizer(max_features=10000)\n",
    "X_tr_v = vec.fit_transform(X_tr)\n",
    "X_val_v = vec.transform(X_val)\n",
    "X_t_v = vec.transform(X_t)"
   ]
  },
  {
   "cell_type": "code",
   "execution_count": 59,
   "metadata": {},
   "outputs": [
    {
     "name": "stdout",
     "output_type": "stream",
     "text": [
      "(5535, 10000) (1384, 10000) (1820, 10000)\n"
     ]
    }
   ],
   "source": [
    "# Checking the sizes of the vectors\n",
    "\n",
    "print(X_tr_v.shape, X_val_v.shape, X_t_v.shape)"
   ]
  },
  {
   "cell_type": "code",
   "execution_count": 60,
   "metadata": {},
   "outputs": [],
   "source": [
    "# Tensors for Model Training\n",
    "\n",
    "X_tr_ten = torch.tensor(X_tr_v.toarray(), dtype=torch.float32).to(device)\n",
    "X_val_ten = torch.tensor(X_val_v.toarray(), dtype=torch.float32).to(device)\n",
    "\n",
    "Y_tr_ten = torch.tensor(Y_tr.to_numpy(), dtype=torch.long).to(device)\n",
    "Y_val_ten = torch.tensor(Y_val.to_numpy(), dtype=torch.long).to(device)\n",
    "\n",
    "tr_data = TensorDataset(X_tr_ten, Y_tr_ten)\n",
    "val_data = TensorDataset(X_val_ten, Y_val_ten)\n",
    "\n",
    "tr_load = DataLoader(tr_data, batch_size=32, shuffle=True)\n",
    "val_load = DataLoader(val_data, batch_size=32, shuffle=False)"
   ]
  },
  {
   "cell_type": "code",
   "execution_count": 61,
   "metadata": {},
   "outputs": [
    {
     "data": {
      "application/vnd.jupyter.widget-view+json": {
       "model_id": "38d2b7278df4440ebde50121efde9712",
       "version_major": 2,
       "version_minor": 0
      },
      "text/plain": [
       "Epoch 1 Training:   0%|          | 0/173 [00:00<?, ?it/s]"
      ]
     },
     "metadata": {},
     "output_type": "display_data"
    },
    {
     "data": {
      "application/vnd.jupyter.widget-view+json": {
       "model_id": "f1afabcfd97842a69aae596d8580f89e",
       "version_major": 2,
       "version_minor": 0
      },
      "text/plain": [
       "Epoch 1 Validation:   0%|          | 0/44 [00:00<?, ?it/s]"
      ]
     },
     "metadata": {},
     "output_type": "display_data"
    },
    {
     "name": "stdout",
     "output_type": "stream",
     "text": [
      "Epoch 1 Training Loss 0.6914151086972627 Validation Loss 0.6839711639014158 Validation Accuracy 0.528179190751445\n",
      "Checkpoint saved at best_checkpoint.json.gz\n",
      "Best Model Saved with Accuracy 0.528179190751445\n",
      "Checkpoint saved at checkpoint_0.json.gz\n",
      "Checkpoint saved at checkpoint_0.json.gz\n"
     ]
    },
    {
     "data": {
      "application/vnd.jupyter.widget-view+json": {
       "model_id": "35fee72f6fd9465bb2c47d40107749fd",
       "version_major": 2,
       "version_minor": 0
      },
      "text/plain": [
       "Epoch 2 Training:   0%|          | 0/173 [00:00<?, ?it/s]"
      ]
     },
     "metadata": {},
     "output_type": "display_data"
    },
    {
     "data": {
      "application/vnd.jupyter.widget-view+json": {
       "model_id": "83d6812e2b4b407882816962fbd4dc81",
       "version_major": 2,
       "version_minor": 0
      },
      "text/plain": [
       "Epoch 2 Validation:   0%|          | 0/44 [00:00<?, ?it/s]"
      ]
     },
     "metadata": {},
     "output_type": "display_data"
    },
    {
     "name": "stdout",
     "output_type": "stream",
     "text": [
      "Epoch 2 Training Loss 0.5475108723419939 Validation Loss 0.4727007340301167 Validation Accuracy 0.7738439306358381\n",
      "Checkpoint saved at best_checkpoint.json.gz\n",
      "Best Model Saved with Accuracy 0.7738439306358381\n"
     ]
    },
    {
     "data": {
      "application/vnd.jupyter.widget-view+json": {
       "model_id": "a7b91d13835948f3894214a407f9e0d4",
       "version_major": 2,
       "version_minor": 0
      },
      "text/plain": [
       "Epoch 3 Training:   0%|          | 0/173 [00:00<?, ?it/s]"
      ]
     },
     "metadata": {},
     "output_type": "display_data"
    },
    {
     "data": {
      "application/vnd.jupyter.widget-view+json": {
       "model_id": "a37a91661d934f9ab1cc652137e38d37",
       "version_major": 2,
       "version_minor": 0
      },
      "text/plain": [
       "Epoch 3 Validation:   0%|          | 0/44 [00:00<?, ?it/s]"
      ]
     },
     "metadata": {},
     "output_type": "display_data"
    },
    {
     "name": "stdout",
     "output_type": "stream",
     "text": [
      "Epoch 3 Training Loss 0.2441653710913796 Validation Loss 0.49506785652854224 Validation Accuracy 0.7904624277456648\n",
      "Checkpoint saved at best_checkpoint.json.gz\n",
      "Best Model Saved with Accuracy 0.7904624277456648\n"
     ]
    },
    {
     "data": {
      "application/vnd.jupyter.widget-view+json": {
       "model_id": "958ac31a6ddc4e0b9cd6e3bdfee8c430",
       "version_major": 2,
       "version_minor": 0
      },
      "text/plain": [
       "Epoch 4 Training:   0%|          | 0/173 [00:00<?, ?it/s]"
      ]
     },
     "metadata": {},
     "output_type": "display_data"
    },
    {
     "data": {
      "application/vnd.jupyter.widget-view+json": {
       "model_id": "5b9332026d1d405187730711db3d1542",
       "version_major": 2,
       "version_minor": 0
      },
      "text/plain": [
       "Epoch 4 Validation:   0%|          | 0/44 [00:00<?, ?it/s]"
      ]
     },
     "metadata": {},
     "output_type": "display_data"
    },
    {
     "name": "stdout",
     "output_type": "stream",
     "text": [
      "Epoch 4 Training Loss 0.0982909778811339 Validation Loss 0.6427108123898506 Validation Accuracy 0.7817919075144508\n"
     ]
    },
    {
     "data": {
      "application/vnd.jupyter.widget-view+json": {
       "model_id": "2c8d50dd8aea4c0580c3630408cd5ecc",
       "version_major": 2,
       "version_minor": 0
      },
      "text/plain": [
       "Epoch 5 Training:   0%|          | 0/173 [00:00<?, ?it/s]"
      ]
     },
     "metadata": {},
     "output_type": "display_data"
    },
    {
     "data": {
      "application/vnd.jupyter.widget-view+json": {
       "model_id": "a90bd4ad725845ceb630bbd0f46e24ba",
       "version_major": 2,
       "version_minor": 0
      },
      "text/plain": [
       "Epoch 5 Validation:   0%|          | 0/44 [00:00<?, ?it/s]"
      ]
     },
     "metadata": {},
     "output_type": "display_data"
    },
    {
     "name": "stdout",
     "output_type": "stream",
     "text": [
      "Epoch 5 Training Loss 0.044773869846296104 Validation Loss 0.7745445377447389 Validation Accuracy 0.7882947976878613\n"
     ]
    },
    {
     "data": {
      "application/vnd.jupyter.widget-view+json": {
       "model_id": "63ce7eaef6274515be94bc391771d973",
       "version_major": 2,
       "version_minor": 0
      },
      "text/plain": [
       "Epoch 6 Training:   0%|          | 0/173 [00:00<?, ?it/s]"
      ]
     },
     "metadata": {},
     "output_type": "display_data"
    },
    {
     "data": {
      "application/vnd.jupyter.widget-view+json": {
       "model_id": "d6c7b0f52e3c48bea058717f2c61e7c6",
       "version_major": 2,
       "version_minor": 0
      },
      "text/plain": [
       "Epoch 6 Validation:   0%|          | 0/44 [00:00<?, ?it/s]"
      ]
     },
     "metadata": {},
     "output_type": "display_data"
    },
    {
     "name": "stdout",
     "output_type": "stream",
     "text": [
      "Epoch 6 Training Loss 0.021712356267195476 Validation Loss 0.8721088922836564 Validation Accuracy 0.7825144508670521\n",
      "Checkpoint saved at checkpoint_5.json.gz\n",
      "Checkpoint saved at checkpoint_5.json.gz\n"
     ]
    },
    {
     "data": {
      "application/vnd.jupyter.widget-view+json": {
       "model_id": "45c770792af4415cab505be22e4530c1",
       "version_major": 2,
       "version_minor": 0
      },
      "text/plain": [
       "Epoch 7 Training:   0%|          | 0/173 [00:00<?, ?it/s]"
      ]
     },
     "metadata": {},
     "output_type": "display_data"
    },
    {
     "data": {
      "application/vnd.jupyter.widget-view+json": {
       "model_id": "4bedaa62b09d4483bcd56f3dfdae94a4",
       "version_major": 2,
       "version_minor": 0
      },
      "text/plain": [
       "Epoch 7 Validation:   0%|          | 0/44 [00:00<?, ?it/s]"
      ]
     },
     "metadata": {},
     "output_type": "display_data"
    },
    {
     "name": "stdout",
     "output_type": "stream",
     "text": [
      "Epoch 7 Training Loss 0.01107389804660854 Validation Loss 0.9894186495379969 Validation Accuracy 0.7839595375722543\n"
     ]
    },
    {
     "data": {
      "application/vnd.jupyter.widget-view+json": {
       "model_id": "783b92d2d5014a13aaeb13905af44445",
       "version_major": 2,
       "version_minor": 0
      },
      "text/plain": [
       "Epoch 8 Training:   0%|          | 0/173 [00:00<?, ?it/s]"
      ]
     },
     "metadata": {},
     "output_type": "display_data"
    },
    {
     "data": {
      "application/vnd.jupyter.widget-view+json": {
       "model_id": "78209581fe7b412e82d9561b96df6b6b",
       "version_major": 2,
       "version_minor": 0
      },
      "text/plain": [
       "Epoch 8 Validation:   0%|          | 0/44 [00:00<?, ?it/s]"
      ]
     },
     "metadata": {},
     "output_type": "display_data"
    },
    {
     "name": "stdout",
     "output_type": "stream",
     "text": [
      "Epoch 8 Training Loss 0.006615006636405589 Validation Loss 1.1365862678397785 Validation Accuracy 0.7789017341040463\n"
     ]
    },
    {
     "data": {
      "application/vnd.jupyter.widget-view+json": {
       "model_id": "1955e3c9fc334aaeb676e2ab86b28a35",
       "version_major": 2,
       "version_minor": 0
      },
      "text/plain": [
       "Epoch 9 Training:   0%|          | 0/173 [00:00<?, ?it/s]"
      ]
     },
     "metadata": {},
     "output_type": "display_data"
    },
    {
     "data": {
      "application/vnd.jupyter.widget-view+json": {
       "model_id": "2fe33ca226ef4aa38f322a585f478274",
       "version_major": 2,
       "version_minor": 0
      },
      "text/plain": [
       "Epoch 9 Validation:   0%|          | 0/44 [00:00<?, ?it/s]"
      ]
     },
     "metadata": {},
     "output_type": "display_data"
    },
    {
     "name": "stdout",
     "output_type": "stream",
     "text": [
      "Epoch 9 Training Loss 0.003940660559142956 Validation Loss 1.149228889833797 Validation Accuracy 0.7846820809248555\n"
     ]
    },
    {
     "data": {
      "application/vnd.jupyter.widget-view+json": {
       "model_id": "cad6cfbf9e6642dd9ecec522a492e3d4",
       "version_major": 2,
       "version_minor": 0
      },
      "text/plain": [
       "Epoch 10 Training:   0%|          | 0/173 [00:00<?, ?it/s]"
      ]
     },
     "metadata": {},
     "output_type": "display_data"
    },
    {
     "data": {
      "application/vnd.jupyter.widget-view+json": {
       "model_id": "ab9b07facea243559b3d6911e8bd0902",
       "version_major": 2,
       "version_minor": 0
      },
      "text/plain": [
       "Epoch 10 Validation:   0%|          | 0/44 [00:00<?, ?it/s]"
      ]
     },
     "metadata": {},
     "output_type": "display_data"
    },
    {
     "name": "stdout",
     "output_type": "stream",
     "text": [
      "Epoch 10 Training Loss 0.0038258633067437065 Validation Loss 1.3814841170202603 Validation Accuracy 0.7687861271676301\n"
     ]
    }
   ],
   "source": [
    "# Model Training for 10 epochs\n",
    "\n",
    "best_acc = float(0)\n",
    "tr_loss = []\n",
    "val_loss = []\n",
    "val_acc = []\n",
    "\n",
    "writer = SummaryWriter()\n",
    "\n",
    "for e in range(10):\n",
    "\n",
    "    model.train()\n",
    "    loss = 0\n",
    "\n",
    "    for X_b, Y_b in tqdm(tr_load, desc=\"Epoch \" + str(e + 1) + \" Training\"):\n",
    "        \n",
    "        op.zero_grad()\n",
    "        out = model(X_b)\n",
    "        loss_ = criterion(out, Y_b)\n",
    "        loss_.backward()\n",
    "        op.step()\n",
    "        loss += loss_.item()\n",
    "    loss /= len(tr_load)\n",
    "\n",
    "    tr_loss.append(loss)\n",
    "\n",
    "\n",
    "    model.eval()\n",
    "\n",
    "    v_loss = 0.0\n",
    "    pr, t = [], []\n",
    "    \n",
    "    with torch.no_grad():\n",
    "        for X_b, Y_b in tqdm(val_load, desc=\"Epoch \" + str(e + 1) + \" Validation\"):\n",
    "            out = model(X_b)\n",
    "            v_loss_ = criterion(out, Y_b)\n",
    "            v_loss += v_loss_.item()\n",
    "\n",
    "            pr.extend(torch.argmax(out, 1).cpu().numpy())\n",
    "            t.extend(Y_b.cpu().numpy())\n",
    "\n",
    "    v_loss /= len(val_load)\n",
    "    val_loss.append(v_loss)\n",
    "    val_acc_ = accuracy_score(t, pr)\n",
    "    val_acc.append(val_acc_)\n",
    "\n",
    "    print(\"Epoch\", e + 1, \"Training Loss\", loss, \"Validation Loss\", v_loss, \"Validation Accuracy\", val_acc_)\n",
    "\n",
    "    for name, param in model.named_parameters():\n",
    "        if param.requires_grad:\n",
    "            writer.add_histogram(str(name)+\"/weights\", param.data, e)\n",
    "            writer.add_histogram(str(name)+\"/grad\", param.grad, e)\n",
    "\n",
    "    if val_acc_ > best_acc:\n",
    "        best_acc = val_acc_\n",
    "        checkpoint(model, \"best_checkpoint.json.gz\")\n",
    "        print(\"Best Model Saved with Accuracy\", best_acc)\n",
    "    \n",
    "    if e % 5 == 0:\n",
    "        checkpoint(model, \"checkpoint_\" + str(e) + \".json.gz\")\n",
    "        print(\"Checkpoint saved at\", \"checkpoint_\" + str(e) + \".json.gz\")\n",
    "    \n",
    "writer.close()"
   ]
  },
  {
   "cell_type": "code",
   "execution_count": 64,
   "metadata": {},
   "outputs": [
    {
     "data": {
      "text/html": [
       "\n",
       "      <iframe id=\"tensorboard-frame-9659fa3db3cac93c\" width=\"100%\" height=\"800\" frameborder=\"0\">\n",
       "      </iframe>\n",
       "      <script>\n",
       "        (function() {\n",
       "          const frame = document.getElementById(\"tensorboard-frame-9659fa3db3cac93c\");\n",
       "          const url = new URL(\"/\", window.location);\n",
       "          const port = 6007;\n",
       "          if (port) {\n",
       "            url.port = port;\n",
       "          }\n",
       "          frame.src = url;\n",
       "        })();\n",
       "      </script>\n",
       "    "
      ],
      "text/plain": [
       "<IPython.core.display.HTML object>"
      ]
     },
     "metadata": {},
     "output_type": "display_data"
    }
   ],
   "source": [
    "import tensorboard\n",
    "tensorboard.notebook.start(\"--logdir runs --port 6007\")\n"
   ]
  },
  {
   "cell_type": "code",
   "execution_count": 63,
   "metadata": {},
   "outputs": [
    {
     "data": {
      "image/png": "[encoded data removed]",
      "text/plain": [
       "<Figure size 640x480 with 1 Axes>"
      ]
     },
     "metadata": {},
     "output_type": "display_data"
    }
   ],
   "source": [
    "# Plotting the losses\n",
    "\n",
    "epochs = range(1, 11)\n",
    "plt.plot(epochs, tr_loss, label=\"Training Loss\")\n",
    "plt.plot(epochs, val_loss, label=\"Validation Loss\")\n",
    "plt.legend()\n",
    "plt.show()"
   ]
  },
  {
   "cell_type": "code",
   "execution_count": 65,
   "metadata": {},
   "outputs": [
    {
     "data": {
      "image/png": "[encoded data removed]",
      "text/plain": [
       "<Figure size 640x480 with 1 Axes>"
      ]
     },
     "metadata": {},
     "output_type": "display_data"
    }
   ],
   "source": [
    "# Plot validation accuracy\n",
    "plt.plot(epochs, val_acc, label=\"Validation Accuracy\")\n",
    "plt.legend()\n",
    "plt.show()"
   ]
  },
  {
   "cell_type": "code",
   "execution_count": 89,
   "metadata": {},
   "outputs": [
    {
     "name": "stdout",
     "output_type": "stream",
     "text": [
      "1820 1384\n"
     ]
    }
   ],
   "source": [
    "print(len(Y_t), len(pr))"
   ]
  },
  {
   "cell_type": "code",
   "execution_count": null,
   "metadata": {},
   "outputs": [],
   "source": []
  },
  {
   "cell_type": "code",
   "execution_count": 93,
   "metadata": {},
   "outputs": [
    {
     "name": "stdout",
     "output_type": "stream",
     "text": [
      "Accuracy Score: 0.7687861271676301\n",
      "F1 Score: 0.7984886649874056\n",
      "Precision Score: 0.7397899649941657\n",
      "Recall Score: 0.8673050615595075\n"
     ]
    }
   ],
   "source": [
    "# Metrics\n",
    "\n",
    "print(\"Accuracy Score:\", accuracy_score(t, pr))\n",
    "print(\"F1 Score:\", f1_score(t, pr))\n",
    "print(\"Precision Score:\", precision_score(t, pr))\n",
    "print(\"Recall Score:\", recall_score(t, pr))\n"
   ]
  },
  {
   "cell_type": "code",
   "execution_count": 95,
   "metadata": {},
   "outputs": [
    {
     "data": {
      "text/plain": [
       "<Axes: >"
      ]
     },
     "execution_count": 95,
     "metadata": {},
     "output_type": "execute_result"
    },
    {
     "data": {
      "image/png": "[encoded data removed]",
      "text/plain": [
       "<Figure size 640x480 with 2 Axes>"
      ]
     },
     "metadata": {},
     "output_type": "display_data"
    }
   ],
   "source": [
    "# Confusion Matrix\n",
    "\n",
    "import seaborn as sns\n",
    "cm = confusion_matrix(t, pr)\n",
    "\n",
    "sns.heatmap(cm, annot=True, fmt=\"d\")"
   ]
  },
  {
   "cell_type": "markdown",
   "metadata": {},
   "source": [
    "### Using Bert Embeddings"
   ]
  },
  {
   "cell_type": "code",
   "execution_count": 125,
   "metadata": {},
   "outputs": [],
   "source": [
    "# Embeddings\n",
    "\n",
    "def bert_embed(text):\n",
    "    encoded = DistilBertTokenizer.from_pretrained(\"distilbert-base-uncased\").encode(text, return_tensors=\"pt\", truncation=True).to(device)\n",
    "    with torch.no_grad():\n",
    "        out = DistilBertModel.from_pretrained(\"distilbert-base-uncased\")(encoded)\n",
    "    em = out.last_hidden_state.mean(1)\n",
    "    return em"
   ]
  },
  {
   "cell_type": "code",
   "execution_count": 70,
   "metadata": {},
   "outputs": [],
   "source": [
    "# Second MLP\n",
    "\n",
    "class MLP_(nn.Module):\n",
    "    def __init__(self, input_size = 768):\n",
    "        super(MLP_, self).__init__()\n",
    "\n",
    "        self.l1 = nn.Linear(input_size, 512)\n",
    "        self.l2 = nn.Linear(512, 256)\n",
    "        self.l3 = nn.Linear(256, 128)\n",
    "        self.l4 = nn.Linear(128, 64)\n",
    "\n",
    "        self.o = nn.Linear(64, 2)\n",
    "\n",
    "        self.activation = nn.ReLU()\n",
    "        self.dropout = nn.Dropout(0.3)\n",
    "    \n",
    "    def forward(self, x):\n",
    "        x = self.activation(self.l1(x))\n",
    "        x = self.dropout(x)\n",
    "        x = self.activation(self.l2(x))\n",
    "        x = self.dropout(x)\n",
    "        x = self.activation(self.l3(x))\n",
    "        x = self.dropout(x)\n",
    "        x = self.activation(self.l4(x))\n",
    "        x = self.o(x)\n",
    "        return x"
   ]
  },
  {
   "cell_type": "code",
   "execution_count": 68,
   "metadata": {},
   "outputs": [],
   "source": [
    "# Text Dataset Class\n",
    "\n",
    "class TextDataset(Dataset):\n",
    "    def __init__(self, text, label):\n",
    "        self.text = text\n",
    "        self.label = label\n",
    "\n",
    "    def __len__(self):\n",
    "        return len(self.text)\n",
    "\n",
    "    def __getitem__(self, idx):\n",
    "        t = self.text[idx]\n",
    "        l = self.label[idx]\n",
    "\n",
    "        return t, l"
   ]
  },
  {
   "cell_type": "code",
   "execution_count": 71,
   "metadata": {},
   "outputs": [],
   "source": [
    "# Initializing the model\n",
    "model_ = MLP_().to(device)\n",
    "op = Adam(model_.parameters(), lr=0.0001)\n"
   ]
  },
  {
   "cell_type": "code",
   "execution_count": 80,
   "metadata": {},
   "outputs": [],
   "source": [
    "# Tensors\n",
    "\n",
    "X_tr_txt = X_tr.to_list()\n",
    "X_val_txt = X_val.to_list()\n",
    "\n",
    "y_tr_ten = torch.tensor(Y_tr.to_numpy(), dtype=torch.long).to(device)\n",
    "y_val_ten = torch.tensor(Y_val.to_numpy(), dtype=torch.long).to(device)"
   ]
  },
  {
   "cell_type": "code",
   "execution_count": 74,
   "metadata": {},
   "outputs": [
    {
     "data": {
      "text/plain": [
       "tensor([[ 1.7363e-01, -7.3020e-02,  7.9727e-02, -1.1769e-01, -5.4779e-02,\n",
       "         -2.6639e-01,  2.3995e-01,  2.2616e-01,  5.9893e-02, -1.2848e-01,\n",
       "          1.8453e-01, -2.3025e-01, -1.0958e-01,  2.5087e-01, -4.2392e-01,\n",
       "         -1.4698e-01,  2.1743e-01, -2.3581e-01,  1.6259e-02, -8.3266e-02,\n",
       "          1.0830e-01, -1.7699e-01, -3.4129e-02,  1.6071e-01, -3.2052e-02,\n",
       "         -6.2751e-02, -8.4661e-02,  1.2655e-01,  3.0783e-02, -2.0380e-01,\n",
       "          4.5399e-01, -2.0657e-01, -2.4363e-01,  1.6648e-01, -2.2876e-01,\n",
       "         -6.2244e-02, -5.7943e-02, -4.9208e-03, -5.3575e-01,  8.4436e-04,\n",
       "         -3.4112e-01, -2.8375e-01, -6.7059e-02,  2.1959e-01, -1.3475e-01,\n",
       "         -3.2999e-01, -6.0067e-02,  3.6911e-01,  1.4362e-01, -4.8068e-01,\n",
       "          1.0345e-01,  1.8142e-01,  2.6080e-01,  9.7578e-03,  9.9398e-02,\n",
       "          4.7362e-01, -1.1378e-01, -2.4471e-02, -1.7378e-01, -9.5165e-02,\n",
       "          7.5209e-02, -4.0315e-02,  1.5088e-01, -2.1539e-01, -1.0878e-02,\n",
       "          4.3284e-01, -9.2882e-02,  1.7482e-01, -6.4107e-01, -2.1418e-01,\n",
       "         -3.6905e-01, -4.7875e-01,  2.0434e-01, -6.7242e-02, -1.0752e-01,\n",
       "         -2.8718e-02, -2.4112e-01,  2.1840e-01,  2.0151e-01, -1.2098e-01,\n",
       "          9.9366e-02, -1.4681e-02,  1.0154e-01,  3.5703e-01, -1.9296e-01,\n",
       "         -2.0743e-01, -1.4133e-01, -1.1254e-01, -2.1621e-01,  3.2512e-01,\n",
       "         -1.9387e-02, -3.7457e-01,  1.1282e-01,  1.7224e-02,  1.6615e-01,\n",
       "         -2.1119e-01, -1.7239e-01,  2.8575e-01,  1.0421e-01,  5.1761e-01,\n",
       "          1.0316e-01, -2.0835e-01,  1.8260e-01,  3.3771e-01, -1.8022e-01,\n",
       "         -1.9095e-01,  1.1692e-01,  1.2228e-01, -8.4772e-02, -3.6016e-01,\n",
       "          2.6012e-01,  4.9558e-02,  1.6875e-01, -1.2132e-01, -4.1342e-01,\n",
       "          1.2675e-01,  5.0969e-02,  3.1502e-01,  1.3560e-01, -3.0676e-01,\n",
       "         -1.1020e-01,  3.2963e-02,  2.9612e-01,  5.4230e-01,  9.8775e-02,\n",
       "          6.4324e-02, -1.9213e-01,  2.1082e-01, -6.4420e-02, -2.8511e-01,\n",
       "         -1.8595e-01,  1.5986e-01,  8.0852e-02,  1.1803e-01, -5.7571e-03,\n",
       "          5.8373e-02, -3.5234e-02,  4.4293e-02, -3.7600e-01, -7.5742e-02,\n",
       "          1.1602e-01,  3.8374e-01, -7.0829e-01,  1.9930e-01,  1.0225e-01,\n",
       "         -5.9722e-02, -4.9822e-02, -1.9044e-01,  1.4507e-01,  2.5334e-01,\n",
       "          1.4479e-01, -5.8083e-02, -1.2658e-01,  6.2935e-03, -8.0322e-02,\n",
       "          3.5416e-01, -3.8828e-01,  4.6289e-02,  2.2315e-01,  4.1343e-01,\n",
       "          2.2533e-01,  7.8583e-02,  1.8480e-01,  2.1938e-01, -1.8061e-01,\n",
       "         -3.5986e-02, -2.6434e-01,  2.7041e-01,  1.1376e-01,  1.7500e-01,\n",
       "         -4.9703e-02, -2.6529e-01,  6.1909e-01,  1.2562e-01, -4.4954e-02,\n",
       "         -6.2811e-02,  2.1919e-01,  2.5174e-02, -1.3540e-01,  1.0484e-02,\n",
       "         -2.3466e+00,  1.7257e-01,  6.5128e-02,  7.1766e-02, -7.1185e-02,\n",
       "         -9.9548e-02,  2.8123e-01, -5.1038e-01,  3.1559e-01,  1.1661e-01,\n",
       "          7.3388e-02, -2.4824e-01, -1.6167e-01,  1.9669e-01,  4.7824e-02,\n",
       "         -2.6504e-01,  7.8979e-02, -3.5399e-02,  3.2920e-02,  6.7238e-03,\n",
       "          1.0119e-01, -3.2944e-01,  1.0295e-02,  2.0794e-01, -5.8424e-02,\n",
       "          6.8529e-01,  1.4331e-01,  5.1711e-03, -2.3971e-02,  1.9295e-01,\n",
       "         -2.2072e-01,  1.8675e-01,  2.6298e-03, -2.6925e-02,  4.0964e-01,\n",
       "         -3.0000e-01,  7.9948e-02,  2.1731e-01, -3.3585e-02,  1.6228e-03,\n",
       "          5.3195e-02,  1.8141e-01, -4.2879e-01,  2.5476e-01, -1.7860e-01,\n",
       "          9.8262e-02,  3.8721e-01, -1.2513e-01,  1.8154e-01, -3.8315e-01,\n",
       "         -5.7221e-02,  7.7834e-03,  3.5993e-01,  2.5483e-01,  1.4186e-01,\n",
       "          1.3131e-01,  9.9209e-02,  1.9276e-01,  8.8319e-02, -3.1929e-01,\n",
       "         -1.0746e-03,  4.6747e-01,  2.5122e-01,  1.2769e-01, -2.9788e-01,\n",
       "          4.4680e-02,  1.7291e-01,  3.5920e-02, -4.6216e-02,  5.8558e-02,\n",
       "         -1.4049e-01, -9.5468e-01,  1.3469e-01, -3.0681e-01, -6.2710e-02,\n",
       "         -1.3207e-01, -2.5141e-01, -2.1922e-01,  3.0773e-02, -1.4151e-01,\n",
       "          1.6370e-01,  2.3022e-01,  2.1111e-01, -1.2092e-01, -3.9990e-01,\n",
       "         -5.2445e-02, -1.5701e-01,  3.9617e-01,  4.4321e-02,  2.2951e-01,\n",
       "         -2.1047e-01,  1.0840e-01, -7.1227e-02, -8.0323e-01, -3.0682e-01,\n",
       "         -4.8267e-01,  4.5027e-01,  2.8961e-01,  5.7711e-02, -3.6456e-01,\n",
       "          2.5069e-03,  6.3690e-01, -5.6171e-01,  1.9581e-02, -2.2931e-02,\n",
       "         -2.0109e-01,  5.2404e-02,  2.6260e-01, -3.0417e-01, -2.9545e-01,\n",
       "         -2.5827e-01, -1.3030e-02, -1.2309e-01, -2.0982e-01,  1.8910e-01,\n",
       "          1.1109e-01,  2.0011e-01,  1.0890e-02, -2.4343e-01, -1.4967e-01,\n",
       "         -1.8603e-02,  3.3025e-01,  1.5162e-01, -2.3012e-01, -1.4780e-01,\n",
       "          2.8695e-02,  7.2715e-04,  1.1900e-01, -2.2478e+00, -1.9879e-01,\n",
       "          3.2110e-02, -2.5125e-01,  2.7939e-01, -3.8304e-01, -7.1451e-02,\n",
       "         -1.2698e-01, -5.0952e-01, -1.2755e-01,  3.3939e-01, -3.4005e-01,\n",
       "          9.7392e-02,  1.6331e-01,  3.6897e-01, -1.8349e-01, -2.6806e-01,\n",
       "         -2.4926e-01, -3.3280e-01,  4.5910e-01, -2.0003e-01,  4.0377e-02,\n",
       "          2.2774e-01, -1.5353e-01,  5.9043e-01,  4.8618e-01, -3.1525e-01,\n",
       "          3.7286e-02, -2.9891e-01, -1.7203e-01, -1.3426e-01, -7.1841e-02,\n",
       "          2.2679e-03,  2.1882e-01,  1.4520e-01, -3.7415e-02,  1.0948e-01,\n",
       "         -1.0537e-01,  2.1078e-01,  1.3861e-01, -1.6637e-01, -3.9352e-01,\n",
       "         -1.9967e-01,  1.7694e-01,  2.6272e-01, -2.0521e-01, -2.8244e-01,\n",
       "         -1.8252e-01, -1.1325e-01,  2.3868e-01,  3.1400e-01,  1.2747e-01,\n",
       "         -1.1936e-01, -2.1075e-02, -8.8956e-02,  5.1777e-03,  2.7856e-01,\n",
       "          5.2298e-01, -8.8190e-02, -2.5166e-01,  2.0481e-02,  7.4853e-02,\n",
       "          3.2966e-02,  3.7979e-01, -1.5758e-01,  1.0563e-01,  1.0256e-01,\n",
       "         -2.4368e-01,  2.0349e-02,  3.4323e-01, -2.1835e-02,  1.5256e-01,\n",
       "          5.1566e-02, -9.8375e-01, -1.4978e-01,  3.4792e-01, -3.1260e-01,\n",
       "         -6.5603e-02,  3.7524e-01, -4.3926e-02,  2.5337e-01, -1.8163e-01,\n",
       "          1.8303e-01,  2.3727e-01, -6.6618e-02, -4.2073e-01, -8.1480e-03,\n",
       "         -2.9004e-01, -4.4726e-02,  1.5933e-01,  3.2821e-01,  1.1857e-01,\n",
       "          3.5109e-01, -7.0902e-02,  3.5824e-01,  4.3218e-01,  2.1597e-01,\n",
       "         -1.5709e-01,  3.8365e-01, -1.4170e-01, -3.6509e-01, -3.7703e-01,\n",
       "          1.1075e-01, -4.2896e-01, -4.5990e-02, -1.7833e-01, -3.7336e-01,\n",
       "          3.3523e-01, -1.7626e-01, -1.1450e-01,  4.6228e-01,  1.1781e-02,\n",
       "          1.5042e-01,  2.8348e-02, -1.6660e-01, -5.7789e-01, -7.2844e-02,\n",
       "          6.6365e-01, -2.7739e-01,  2.2548e-01,  1.8521e-01,  4.8479e-01,\n",
       "         -7.6628e-02, -2.1380e-01, -1.1324e-01,  8.3198e-02, -9.0088e-02,\n",
       "         -2.9169e-01, -7.0909e-02,  1.5147e-01, -1.9868e-01, -9.8667e-02,\n",
       "          2.3776e-02, -5.1929e-01,  8.0462e-02, -1.5223e-01, -1.5519e-01,\n",
       "          1.5847e-01,  2.1185e-01,  2.5403e-01,  4.3467e-01,  3.0088e-01,\n",
       "          4.8815e-02,  6.2368e-02, -4.4067e-02,  4.0372e-01, -1.7807e-01,\n",
       "          1.9086e-01,  2.0713e-01,  4.5332e-02, -5.7570e-02, -1.1926e-01,\n",
       "          2.4490e-01, -2.5826e-01, -1.5300e-01, -2.3103e-01,  3.0009e-01,\n",
       "         -8.1790e-02, -1.5553e-01, -1.9911e-01, -1.1695e-01, -3.0183e-01,\n",
       "         -4.2609e-02,  2.2854e-01,  4.9786e-02,  1.9529e-01,  2.2389e-01,\n",
       "         -2.0522e-01, -3.6882e-01,  1.4140e-01,  2.4699e-01, -6.3979e-02,\n",
       "         -3.3937e-02,  1.1605e-01, -2.2274e-01,  2.1267e-01, -2.2085e-01,\n",
       "         -4.0602e-01, -5.7809e-03,  1.8420e-01,  1.6454e-01, -2.3798e-01,\n",
       "         -7.0772e-02, -2.0845e-01,  2.5279e-01,  3.4835e-01, -4.1941e-01,\n",
       "         -3.5644e-01,  1.0431e-01,  2.8728e-01,  5.7684e-02, -1.1954e-01,\n",
       "          2.8092e-02, -9.1951e-02, -3.6315e-01, -5.8760e-02,  3.1534e-01,\n",
       "         -1.8632e-01,  1.9084e-01,  1.9821e-01,  4.3465e-01,  7.8965e-02,\n",
       "         -4.2932e-01, -6.6673e-02,  5.7532e-02, -3.1565e-01,  7.1705e-01,\n",
       "          2.9052e-01, -1.3013e-01,  6.7994e-03, -1.5262e-01, -4.6918e-01,\n",
       "         -5.1392e-01, -9.6094e-03,  1.3934e-01, -1.4261e-01,  2.8654e-01,\n",
       "          1.1890e-02,  1.0592e-01, -2.2912e-01, -5.1256e-01, -2.2217e-01,\n",
       "         -2.4571e-01, -8.2941e-02, -4.2372e-01, -2.4423e-01, -2.4894e-01,\n",
       "         -2.6326e-01, -5.8248e-02,  1.7815e-01,  2.0253e-01, -8.0007e-02,\n",
       "         -3.3249e-01,  1.4165e-01,  3.7970e-01,  1.6470e-01, -1.3555e-01,\n",
       "          2.8854e-01, -1.6755e-01, -1.6399e-02,  1.0158e-02, -1.0325e-01,\n",
       "         -1.0926e-01, -1.1995e-02,  1.6621e-01,  1.3441e-01, -8.6477e-02,\n",
       "          3.7301e-01, -1.4887e-01,  8.6325e-02, -1.1437e-01,  3.9544e-02,\n",
       "         -1.0864e-01, -2.9474e-01,  7.3361e-02, -4.1828e-01, -3.8379e-01,\n",
       "          1.4062e-01,  4.1195e-02,  2.5055e-01, -8.3957e-02,  5.8319e-02,\n",
       "          4.2569e-01, -1.8105e-01,  5.8237e-02,  2.2605e-01,  2.9037e-01,\n",
       "         -9.0573e-02,  2.1346e-01,  2.2250e-03,  5.3000e-02,  1.9898e-01,\n",
       "         -9.7887e-02,  1.6450e-01, -3.6634e-01,  1.1637e-01, -1.5004e-01,\n",
       "         -3.2064e-01,  8.5622e-02, -1.0812e-01,  6.8922e-01,  5.0889e-01,\n",
       "         -2.9681e-02, -3.2035e-01,  1.5367e-01, -2.4097e-01,  1.5280e-01,\n",
       "         -8.5602e-03, -2.1849e-01, -9.0958e-02,  4.3795e-01,  2.7732e-01,\n",
       "         -2.2812e-01,  1.3882e-01, -1.6059e-01, -5.1558e-02,  1.5962e-01,\n",
       "          2.5900e-01, -1.4107e-01, -3.6963e-02,  5.5769e-02,  2.1675e-01,\n",
       "          2.2942e-01,  9.6599e-02,  3.6576e-02, -2.4133e-02,  1.3313e-01,\n",
       "         -1.8468e-01,  7.6193e-02, -2.9168e-03, -4.6228e-02, -3.5431e-01,\n",
       "          8.3891e-02,  3.6428e-01, -1.7452e-01,  2.0452e-01,  2.5656e-01,\n",
       "         -1.9811e-01, -1.7547e-01,  6.7140e-02,  1.2541e-01,  2.1250e-01,\n",
       "          2.1276e-01,  6.4460e-02,  4.6066e-01,  2.6276e-01, -5.6000e-01,\n",
       "          1.4366e-01,  2.6559e-01,  4.2675e-01, -2.0585e-01,  2.5284e-01,\n",
       "         -1.8001e-01,  3.8001e-01, -7.2204e-02, -2.3117e-01,  3.1991e-01,\n",
       "         -2.0881e-01,  1.6341e-01, -1.0378e-02,  1.1649e-01, -1.6236e-02,\n",
       "          4.0138e-01,  4.7084e-01,  1.7912e-01,  7.5545e-02,  1.5601e-01,\n",
       "         -1.0948e-01,  1.8919e-01,  2.5253e-01, -1.1099e-01,  3.3521e-01,\n",
       "         -4.3934e-01,  8.7322e-02, -3.0553e-01,  6.2752e-02,  1.8768e-01,\n",
       "          1.1783e-01, -1.8149e-01, -8.1385e-01, -3.4539e-02, -3.2722e-01,\n",
       "         -1.0085e-01, -2.3590e-01,  2.9066e-01,  2.7413e-01,  5.7909e-02,\n",
       "         -8.9900e-02, -4.5978e-01, -2.9847e-02,  1.6352e-01,  3.0388e-01,\n",
       "          8.4908e-02,  6.3298e-02, -1.1796e-01,  3.1553e-01,  4.9344e-02,\n",
       "         -1.3712e-01, -2.4898e-01, -9.2889e-03, -2.5785e-01,  9.7240e-02,\n",
       "         -3.4903e-01, -1.3484e-01,  2.3205e-02, -7.8861e-01, -2.5327e-01,\n",
       "         -1.2778e-02,  1.7598e-02, -2.9268e-01,  3.7870e-03, -3.5664e-01,\n",
       "         -4.7141e-01, -4.7360e-01,  1.5726e-01, -3.1793e-01,  3.0812e-01,\n",
       "         -2.5942e-02,  1.5136e-01,  4.2452e-01,  8.9211e-01, -1.3072e-01,\n",
       "         -1.9699e-01,  4.8347e-02, -8.8066e-02,  6.3622e-02,  1.1916e-01,\n",
       "         -1.5732e-01, -3.1355e-02, -2.3142e-02, -5.6241e-02,  2.8513e-01,\n",
       "         -1.0576e+00,  1.8541e-01,  4.4300e-02,  2.1858e-02,  5.0321e-02,\n",
       "         -9.5505e-02, -1.3304e-01,  1.1357e-01,  1.5112e-01,  2.1636e-02,\n",
       "         -1.3901e-01,  4.5123e-01, -5.8896e-02, -3.9913e-01, -1.1199e-01,\n",
       "          4.1512e-01, -1.5542e-01, -2.9906e-01,  3.1766e-02, -2.5600e-02,\n",
       "          4.1562e-02, -6.5785e-02, -1.8365e-01,  5.0280e-03,  6.9391e-02,\n",
       "         -6.0183e-02, -1.8790e-01, -1.5410e-01,  8.8270e-02, -2.1551e-01,\n",
       "          1.4036e-01, -1.8573e-03, -2.0109e+00, -1.6988e-01,  8.9216e-02,\n",
       "         -1.1019e-01,  1.1272e-01,  9.1576e-02,  2.9784e-01, -3.2986e-01,\n",
       "         -2.0010e-01, -3.6916e-01,  2.5991e-03, -2.3838e-01, -2.2746e-01,\n",
       "         -7.3783e-02, -9.3052e-02, -1.0723e-01]])"
      ]
     },
     "execution_count": 74,
     "metadata": {},
     "output_type": "execute_result"
    }
   ],
   "source": [
    "bert_embed(X_tr_txt[0])"
   ]
  },
  {
   "cell_type": "code",
   "execution_count": null,
   "metadata": {},
   "outputs": [
    {
     "data": {
      "application/vnd.jupyter.widget-view+json": {
       "model_id": "2feb35b9daa9465c806ee43991805d5f",
       "version_major": 2,
       "version_minor": 0
      },
      "text/plain": [
       "Embedding Training:   0%|          | 0/160 [00:00<?, ?it/s]"
      ]
     },
     "metadata": {},
     "output_type": "display_data"
    },
    {
     "name": "stderr",
     "output_type": "stream",
     "text": [
      "C:\\Users\\harin\\AppData\\Local\\Temp\\ipykernel_17192\\2598415255.py:15: UserWarning: To copy construct from a tensor, it is recommended to use sourceTensor.clone().detach() or sourceTensor.clone().detach().requires_grad_(True), rather than torch.tensor(sourceTensor).\n",
      "  X_tr_ten.append(torch.tensor(bert_embed(i)).to(device))\n"
     ]
    },
    {
     "data": {
      "application/vnd.jupyter.widget-view+json": {
       "model_id": "9bdcc57b6c8749c0ae15e779f0eab001",
       "version_major": 2,
       "version_minor": 0
      },
      "text/plain": [
       "Embedding Validation:   0%|          | 0/32 [00:00<?, ?it/s]"
      ]
     },
     "metadata": {},
     "output_type": "display_data"
    },
    {
     "name": "stderr",
     "output_type": "stream",
     "text": [
      "C:\\Users\\harin\\AppData\\Local\\Temp\\ipykernel_17192\\2598415255.py:18: UserWarning: To copy construct from a tensor, it is recommended to use sourceTensor.clone().detach() or sourceTensor.clone().detach().requires_grad_(True), rather than torch.tensor(sourceTensor).\n",
      "  X_val_ten.append(torch.tensor(bert_embed(i)).to(device))\n"
     ]
    }
   ],
   "source": [
    "# Text to vectors\n",
    "\n",
    "# Randomly selecting 160 samples for training and 32 testing since compute constraints\n",
    "import random\n",
    "random.sample(range(0, len(X_tr_txt)), 200)\n",
    "random.sample(range(0, len(X_val_txt)), 32)\n",
    "\n",
    "X_tr_txt = [X_tr_txt[i] for i in random.sample(range(0, len(X_tr_txt)), 160)]\n",
    "X_val_txt = [X_val_txt[i] for i in random.sample(range(0, len(X_val_txt)), 32)]\n",
    "\n",
    "X_tr_ten = []\n",
    "X_val_ten = []\n",
    "\n",
    "for i in tqdm(X_tr_txt, desc=\"Embedding Training\"):\n",
    "    X_tr_ten.append(torch.tensor(bert_embed(i)).to(device))\n",
    "\n",
    "for i in tqdm(X_val_txt, desc=\"Embedding Validation\"):\n",
    "    X_val_ten.append(torch.tensor(bert_embed(i)).to(device))\n",
    "\n",
    "X_tr_ten = torch.cat(X_tr_ten, 0)\n",
    "X_val_ten = torch.cat(X_val_ten, 0)"
   ]
  },
  {
   "cell_type": "code",
   "execution_count": 100,
   "metadata": {},
   "outputs": [],
   "source": [
    "# Matching the y based on the above random sampling\n",
    "y_tr_ten = [Y_tr.to_numpy()[i] for i in random.sample(range(0, len(Y_tr)), 160)]\n",
    "y_val_ten = [Y_val.to_numpy()[i] for i in random.sample(range(0, len(Y_val)), 32)]\n",
    "\n",
    "y_tr_ten = torch.tensor(y_tr_ten, dtype=torch.long).to(device)\n",
    "y_val_ten = torch.tensor(y_val_ten, dtype=torch.long).to(device)"
   ]
  },
  {
   "cell_type": "code",
   "execution_count": 101,
   "metadata": {},
   "outputs": [
    {
     "name": "stdout",
     "output_type": "stream",
     "text": [
      "torch.Size([160, 768]) torch.Size([32, 768]) torch.Size([160]) torch.Size([32])\n"
     ]
    }
   ],
   "source": [
    "print(X_tr_ten.shape, X_val_ten.shape, y_tr_ten.shape, y_val_ten.shape)  "
   ]
  },
  {
   "cell_type": "code",
   "execution_count": 102,
   "metadata": {},
   "outputs": [],
   "source": [
    "# Saving the tensors\n",
    "\n",
    "import pickle\n",
    "\n",
    "with open(\"X_tr_ten.pkl\", \"wb\") as f:\n",
    "    pickle.dump(X_tr_ten, f)\n",
    "\n",
    "with open(\"X_val_ten.pkl\", \"wb\") as f:\n",
    "    pickle.dump(X_val_ten, f)"
   ]
  },
  {
   "cell_type": "code",
   "execution_count": 103,
   "metadata": {},
   "outputs": [],
   "source": [
    "# Datasets\n",
    "\n",
    "tr_data = TensorDataset(X_tr_ten, y_tr_ten)\n",
    "val_data = TensorDataset(X_val_ten, y_val_ten)\n",
    "\n",
    "tr_load = DataLoader(tr_data, batch_size=32, shuffle=True)\n",
    "val_load = DataLoader(val_data, batch_size=32, shuffle=False)\n"
   ]
  },
  {
   "cell_type": "code",
   "execution_count": 104,
   "metadata": {},
   "outputs": [
    {
     "data": {
      "application/vnd.jupyter.widget-view+json": {
       "model_id": "435a6db8d0d84d049559447a40fa87db",
       "version_major": 2,
       "version_minor": 0
      },
      "text/plain": [
       "Epoch 1 Training:   0%|          | 0/5 [00:00<?, ?it/s]"
      ]
     },
     "metadata": {},
     "output_type": "display_data"
    },
    {
     "data": {
      "application/vnd.jupyter.widget-view+json": {
       "model_id": "d096fe5f319f42219ff92d7dc8dead62",
       "version_major": 2,
       "version_minor": 0
      },
      "text/plain": [
       "Epoch 1 Validation:   0%|          | 0/1 [00:00<?, ?it/s]"
      ]
     },
     "metadata": {},
     "output_type": "display_data"
    },
    {
     "name": "stdout",
     "output_type": "stream",
     "text": [
      "Epoch 1 Training Loss 0.6909405946731567 Validation Loss 0.6956207156181335 Validation Accuracy 0.5\n",
      "Checkpoint saved at 2_best_checkpoint.json.gz\n",
      "Best Model Saved with Accuracy 0.5\n",
      "Checkpoint saved at 2_checkpoint_0.json.gz\n",
      "Checkpoint saved at 2_checkpoint_0.json.gz\n"
     ]
    },
    {
     "data": {
      "application/vnd.jupyter.widget-view+json": {
       "model_id": "100ef69174ea4615b4d07441f68089e0",
       "version_major": 2,
       "version_minor": 0
      },
      "text/plain": [
       "Epoch 2 Training:   0%|          | 0/5 [00:00<?, ?it/s]"
      ]
     },
     "metadata": {},
     "output_type": "display_data"
    },
    {
     "data": {
      "application/vnd.jupyter.widget-view+json": {
       "model_id": "4b55416c989b42cea0ba198fa46cda07",
       "version_major": 2,
       "version_minor": 0
      },
      "text/plain": [
       "Epoch 2 Validation:   0%|          | 0/1 [00:00<?, ?it/s]"
      ]
     },
     "metadata": {},
     "output_type": "display_data"
    },
    {
     "name": "stdout",
     "output_type": "stream",
     "text": [
      "Epoch 2 Training Loss 0.6909424066543579 Validation Loss 0.6954667568206787 Validation Accuracy 0.5\n"
     ]
    },
    {
     "data": {
      "application/vnd.jupyter.widget-view+json": {
       "model_id": "8883db88e6b6408d9fc1b9804e4d4e4f",
       "version_major": 2,
       "version_minor": 0
      },
      "text/plain": [
       "Epoch 3 Training:   0%|          | 0/5 [00:00<?, ?it/s]"
      ]
     },
     "metadata": {},
     "output_type": "display_data"
    },
    {
     "data": {
      "application/vnd.jupyter.widget-view+json": {
       "model_id": "60996033f8a0409a81324d09c5e1afea",
       "version_major": 2,
       "version_minor": 0
      },
      "text/plain": [
       "Epoch 3 Validation:   0%|          | 0/1 [00:00<?, ?it/s]"
      ]
     },
     "metadata": {},
     "output_type": "display_data"
    },
    {
     "name": "stdout",
     "output_type": "stream",
     "text": [
      "Epoch 3 Training Loss 0.6900626659393311 Validation Loss 0.6953890919685364 Validation Accuracy 0.5\n"
     ]
    },
    {
     "data": {
      "application/vnd.jupyter.widget-view+json": {
       "model_id": "cae5c46cc3da4afea2e89bdf70527a16",
       "version_major": 2,
       "version_minor": 0
      },
      "text/plain": [
       "Epoch 4 Training:   0%|          | 0/5 [00:00<?, ?it/s]"
      ]
     },
     "metadata": {},
     "output_type": "display_data"
    },
    {
     "data": {
      "application/vnd.jupyter.widget-view+json": {
       "model_id": "4f0999df154e4d49be6b432378513850",
       "version_major": 2,
       "version_minor": 0
      },
      "text/plain": [
       "Epoch 4 Validation:   0%|          | 0/1 [00:00<?, ?it/s]"
      ]
     },
     "metadata": {},
     "output_type": "display_data"
    },
    {
     "name": "stdout",
     "output_type": "stream",
     "text": [
      "Epoch 4 Training Loss 0.6909788012504577 Validation Loss 0.6953297853469849 Validation Accuracy 0.5\n"
     ]
    },
    {
     "data": {
      "application/vnd.jupyter.widget-view+json": {
       "model_id": "d0801006706b4851ae98f02142f4bf29",
       "version_major": 2,
       "version_minor": 0
      },
      "text/plain": [
       "Epoch 5 Training:   0%|          | 0/5 [00:00<?, ?it/s]"
      ]
     },
     "metadata": {},
     "output_type": "display_data"
    },
    {
     "data": {
      "application/vnd.jupyter.widget-view+json": {
       "model_id": "2ecbe68694f94b66ae2cd1ffdf5021c3",
       "version_major": 2,
       "version_minor": 0
      },
      "text/plain": [
       "Epoch 5 Validation:   0%|          | 0/1 [00:00<?, ?it/s]"
      ]
     },
     "metadata": {},
     "output_type": "display_data"
    },
    {
     "name": "stdout",
     "output_type": "stream",
     "text": [
      "Epoch 5 Training Loss 0.6905309677124023 Validation Loss 0.6954958438873291 Validation Accuracy 0.5\n"
     ]
    },
    {
     "data": {
      "application/vnd.jupyter.widget-view+json": {
       "model_id": "bc5957872668433f97d306a10b8eaf69",
       "version_major": 2,
       "version_minor": 0
      },
      "text/plain": [
       "Epoch 6 Training:   0%|          | 0/5 [00:00<?, ?it/s]"
      ]
     },
     "metadata": {},
     "output_type": "display_data"
    },
    {
     "data": {
      "application/vnd.jupyter.widget-view+json": {
       "model_id": "2d7bdb0372fa4c7b9e1996cfe61ebe9d",
       "version_major": 2,
       "version_minor": 0
      },
      "text/plain": [
       "Epoch 6 Validation:   0%|          | 0/1 [00:00<?, ?it/s]"
      ]
     },
     "metadata": {},
     "output_type": "display_data"
    },
    {
     "name": "stdout",
     "output_type": "stream",
     "text": [
      "Epoch 6 Training Loss 0.6898092269897461 Validation Loss 0.6956225037574768 Validation Accuracy 0.5\n",
      "Checkpoint saved at 2_checkpoint_5.json.gz\n",
      "Checkpoint saved at 2_checkpoint_5.json.gz\n"
     ]
    },
    {
     "data": {
      "application/vnd.jupyter.widget-view+json": {
       "model_id": "e11a08aa02c641c99f7d019dd1ae86a0",
       "version_major": 2,
       "version_minor": 0
      },
      "text/plain": [
       "Epoch 7 Training:   0%|          | 0/5 [00:00<?, ?it/s]"
      ]
     },
     "metadata": {},
     "output_type": "display_data"
    },
    {
     "data": {
      "application/vnd.jupyter.widget-view+json": {
       "model_id": "14826f9c47534770a58886877e39c575",
       "version_major": 2,
       "version_minor": 0
      },
      "text/plain": [
       "Epoch 7 Validation:   0%|          | 0/1 [00:00<?, ?it/s]"
      ]
     },
     "metadata": {},
     "output_type": "display_data"
    },
    {
     "name": "stdout",
     "output_type": "stream",
     "text": [
      "Epoch 7 Training Loss 0.6890702843666077 Validation Loss 0.6956018209457397 Validation Accuracy 0.5\n"
     ]
    },
    {
     "data": {
      "application/vnd.jupyter.widget-view+json": {
       "model_id": "0965fb536eb543e5a899a589a5677d7f",
       "version_major": 2,
       "version_minor": 0
      },
      "text/plain": [
       "Epoch 8 Training:   0%|          | 0/5 [00:00<?, ?it/s]"
      ]
     },
     "metadata": {},
     "output_type": "display_data"
    },
    {
     "data": {
      "application/vnd.jupyter.widget-view+json": {
       "model_id": "561fb16c73674096835434c391548b60",
       "version_major": 2,
       "version_minor": 0
      },
      "text/plain": [
       "Epoch 8 Validation:   0%|          | 0/1 [00:00<?, ?it/s]"
      ]
     },
     "metadata": {},
     "output_type": "display_data"
    },
    {
     "name": "stdout",
     "output_type": "stream",
     "text": [
      "Epoch 8 Training Loss 0.6896448731422424 Validation Loss 0.6954981684684753 Validation Accuracy 0.5\n"
     ]
    },
    {
     "data": {
      "application/vnd.jupyter.widget-view+json": {
       "model_id": "41261fd75d8f4c54be6703c79d84f3db",
       "version_major": 2,
       "version_minor": 0
      },
      "text/plain": [
       "Epoch 9 Training:   0%|          | 0/5 [00:00<?, ?it/s]"
      ]
     },
     "metadata": {},
     "output_type": "display_data"
    },
    {
     "data": {
      "application/vnd.jupyter.widget-view+json": {
       "model_id": "de641e0a21684994a30de0c0896bb971",
       "version_major": 2,
       "version_minor": 0
      },
      "text/plain": [
       "Epoch 9 Validation:   0%|          | 0/1 [00:00<?, ?it/s]"
      ]
     },
     "metadata": {},
     "output_type": "display_data"
    },
    {
     "name": "stdout",
     "output_type": "stream",
     "text": [
      "Epoch 9 Training Loss 0.6881700754165649 Validation Loss 0.6955685019493103 Validation Accuracy 0.5\n"
     ]
    },
    {
     "data": {
      "application/vnd.jupyter.widget-view+json": {
       "model_id": "6d5c1e7dc34f48e88ad8f7b0fc8ae4f6",
       "version_major": 2,
       "version_minor": 0
      },
      "text/plain": [
       "Epoch 10 Training:   0%|          | 0/5 [00:00<?, ?it/s]"
      ]
     },
     "metadata": {},
     "output_type": "display_data"
    },
    {
     "data": {
      "application/vnd.jupyter.widget-view+json": {
       "model_id": "1c4cdc305e9445eeb5ebb609fbe7cbf1",
       "version_major": 2,
       "version_minor": 0
      },
      "text/plain": [
       "Epoch 10 Validation:   0%|          | 0/1 [00:00<?, ?it/s]"
      ]
     },
     "metadata": {},
     "output_type": "display_data"
    },
    {
     "name": "stdout",
     "output_type": "stream",
     "text": [
      "Epoch 10 Training Loss 0.6893006563186646 Validation Loss 0.6957886815071106 Validation Accuracy 0.5\n"
     ]
    }
   ],
   "source": [
    "# Training the model\n",
    "\n",
    "best_acc = float(0)\n",
    "tr_loss = []\n",
    "val_loss = []\n",
    "val_acc = []\n",
    "\n",
    "writer = SummaryWriter()\n",
    "\n",
    "for e in range(10):\n",
    "    model_.train()\n",
    "    loss = 0\n",
    "\n",
    "    for X_b, Y_b in tqdm(tr_load, desc=\"Epoch \" + str(e + 1) + \" Training\"):\n",
    "        op.zero_grad()\n",
    "        out = model_(X_b)\n",
    "        loss_ = criterion(out, Y_b)\n",
    "        loss_.backward()\n",
    "        op.step()\n",
    "        loss += loss_.item()\n",
    "    loss /= len(tr_load)\n",
    "    tr_loss.append(loss)\n",
    "\n",
    "    model_.eval()\n",
    "\n",
    "    v_loss = 0.0\n",
    "    pr, t = [], []\n",
    "\n",
    "    with torch.no_grad():\n",
    "        for X_b, Y_b in tqdm(val_load, desc=\"Epoch \" + str(e + 1) + \" Validation\"):\n",
    "            out = model_(X_b)\n",
    "            v_loss_ = criterion(out, Y_b)\n",
    "            v_loss += v_loss_.item()\n",
    "\n",
    "            pr.extend(torch.argmax(out, 1).cpu().numpy())\n",
    "            t.extend(Y_b.cpu().numpy())\n",
    "\n",
    "    v_loss /= len(val_load)\n",
    "    val_loss.append(v_loss)\n",
    "\n",
    "    val_acc_ = accuracy_score(t, pr)\n",
    "\n",
    "    val_acc.append(val_acc_)\n",
    "\n",
    "    print(\"Epoch\", e + 1, \"Training Loss\", loss, \"Validation Loss\", v_loss, \"Validation Accuracy\", val_acc_)\n",
    "\n",
    "    for name, param in model_.named_parameters():\n",
    "        if param.requires_grad:\n",
    "            writer.add_histogram(str(name)+\"/weights\", param.data, e)\n",
    "            writer.add_histogram(str(name)+\"/grad\", param.grad, e)\n",
    "\n",
    "    if val_acc_ > best_acc:\n",
    "        best_acc = val_acc_\n",
    "        checkpoint(model_, \"2_best_checkpoint.json.gz\")\n",
    "        print(\"Best Model Saved with Accuracy\", best_acc)\n",
    "\n",
    "    if e % 5 == 0:\n",
    "        checkpoint(model_, \"2_checkpoint_\" + str(e) + \".json.gz\")\n",
    "        print(\"Checkpoint saved at\", \"2_checkpoint_\" + str(e) + \".json.gz\")\n",
    "    \n",
    "\n",
    "writer.close()\n"
   ]
  },
  {
   "cell_type": "code",
   "execution_count": 105,
   "metadata": {},
   "outputs": [
    {
     "data": {
      "text/html": [
       "\n",
       "      <iframe id=\"tensorboard-frame-ac71558ad90474a0\" width=\"100%\" height=\"800\" frameborder=\"0\">\n",
       "      </iframe>\n",
       "      <script>\n",
       "        (function() {\n",
       "          const frame = document.getElementById(\"tensorboard-frame-ac71558ad90474a0\");\n",
       "          const url = new URL(\"/\", window.location);\n",
       "          const port = 6008;\n",
       "          if (port) {\n",
       "            url.port = port;\n",
       "          }\n",
       "          frame.src = url;\n",
       "        })();\n",
       "      </script>\n",
       "    "
      ],
      "text/plain": [
       "<IPython.core.display.HTML object>"
      ]
     },
     "metadata": {},
     "output_type": "display_data"
    }
   ],
   "source": [
    "# Tensorboard\n",
    "\n",
    "tensorboard.notebook.start(\"--logdir runs --port 6008\")"
   ]
  },
  {
   "cell_type": "code",
   "execution_count": 106,
   "metadata": {},
   "outputs": [
    {
     "data": {
      "image/png": "[encoded data removed]",
      "text/plain": [
       "<Figure size 640x480 with 1 Axes>"
      ]
     },
     "metadata": {},
     "output_type": "display_data"
    }
   ],
   "source": [
    "# Plot the losses\n",
    "\n",
    "epochs = range(1, 11)\n",
    "plt.plot(epochs, tr_loss, label=\"Training Loss\")\n",
    "plt.plot(epochs, val_loss, label=\"Validation Loss\")\n",
    "plt.legend()\n",
    "plt.show()"
   ]
  },
  {
   "cell_type": "code",
   "execution_count": 107,
   "metadata": {},
   "outputs": [
    {
     "data": {
      "image/png": "[encoded data removed]",
      "text/plain": [
       "<Figure size 640x480 with 1 Axes>"
      ]
     },
     "metadata": {},
     "output_type": "display_data"
    }
   ],
   "source": [
    "# Plot the validation accuracy\n",
    "\n",
    "plt.plot(epochs, val_acc, label=\"Validation Accuracy\")\n",
    "plt.legend()\n",
    "plt.show()\n"
   ]
  },
  {
   "cell_type": "code",
   "execution_count": 108,
   "metadata": {},
   "outputs": [
    {
     "name": "stdout",
     "output_type": "stream",
     "text": [
      "Accuracy Score: 0.5\n",
      "F1 Score: 0.0\n",
      "Precision Score: 0.0\n",
      "Recall Score: 0.0\n"
     ]
    },
    {
     "name": "stderr",
     "output_type": "stream",
     "text": [
      "C:\\Users\\harin\\AppData\\Local\\Packages\\PythonSoftwareFoundation.Python.3.13_qbz5n2kfra8p0\\LocalCache\\local-packages\\Python313\\site-packages\\sklearn\\metrics\\_classification.py:1565: UndefinedMetricWarning: Precision is ill-defined and being set to 0.0 due to no predicted samples. Use `zero_division` parameter to control this behavior.\n",
      "  _warn_prf(average, modifier, f\"{metric.capitalize()} is\", len(result))\n"
     ]
    }
   ],
   "source": [
    "# Metrics\n",
    "\n",
    "print(\"Accuracy Score:\", accuracy_score(t, pr))\n",
    "print(\"F1 Score:\", f1_score(t, pr))\n",
    "print(\"Precision Score:\", precision_score(t, pr))\n",
    "print(\"Recall Score:\", recall_score(t, pr))\n"
   ]
  },
  {
   "cell_type": "code",
   "execution_count": 109,
   "metadata": {},
   "outputs": [
    {
     "data": {
      "text/plain": [
       "<Axes: >"
      ]
     },
     "execution_count": 109,
     "metadata": {},
     "output_type": "execute_result"
    },
    {
     "data": {
      "image/png": "[encoded data removed]",
      "text/plain": [
       "<Figure size 640x480 with 2 Axes>"
      ]
     },
     "metadata": {},
     "output_type": "display_data"
    }
   ],
   "source": [
    "# Confusion Matrix\n",
    "\n",
    "import seaborn as sns\n",
    "cm = confusion_matrix(t, pr)\n",
    "sns.heatmap(cm, annot=True, fmt=\"d\")"
   ]
  },
  {
   "cell_type": "markdown",
   "metadata": {},
   "source": [
    "### Loading the best model 1"
   ]
  },
  {
   "cell_type": "code",
   "execution_count": 110,
   "metadata": {},
   "outputs": [
    {
     "name": "stdout",
     "output_type": "stream",
     "text": [
      "Checkpoint loaded from best_checkpoint.json.gz\n"
     ]
    }
   ],
   "source": [
    "# Initializing the model\n",
    "\n",
    "model = MLP()\n",
    "load(model, \"best_checkpoint.json.gz\")\n",
    "model.to(device)\n",
    "\n",
    "op = Adam(model.parameters(), lr=0.0001)"
   ]
  },
  {
   "cell_type": "code",
   "execution_count": 111,
   "metadata": {},
   "outputs": [
    {
     "data": {
      "text/html": [
       "<div>\n",
       "<style scoped>\n",
       "    .dataframe tbody tr th:only-of-type {\n",
       "        vertical-align: middle;\n",
       "    }\n",
       "\n",
       "    .dataframe tbody tr th {\n",
       "        vertical-align: top;\n",
       "    }\n",
       "\n",
       "    .dataframe thead th {\n",
       "        text-align: right;\n",
       "    }\n",
       "</style>\n",
       "<table border=\"1\" class=\"dataframe\">\n",
       "  <thead>\n",
       "    <tr style=\"text-align: right;\">\n",
       "      <th></th>\n",
       "      <th>review</th>\n",
       "      <th>sentiment</th>\n",
       "    </tr>\n",
       "  </thead>\n",
       "  <tbody>\n",
       "    <tr>\n",
       "      <th>0</th>\n",
       "      <td>One of the other reviewers has mentioned that ...</td>\n",
       "      <td>positive</td>\n",
       "    </tr>\n",
       "    <tr>\n",
       "      <th>1</th>\n",
       "      <td>A wonderful little production. &lt;br /&gt;&lt;br /&gt;The...</td>\n",
       "      <td>positive</td>\n",
       "    </tr>\n",
       "    <tr>\n",
       "      <th>2</th>\n",
       "      <td>I thought this was a wonderful way to spend ti...</td>\n",
       "      <td>positive</td>\n",
       "    </tr>\n",
       "    <tr>\n",
       "      <th>3</th>\n",
       "      <td>Basically there's a family where a little boy ...</td>\n",
       "      <td>negative</td>\n",
       "    </tr>\n",
       "    <tr>\n",
       "      <th>4</th>\n",
       "      <td>Petter Mattei's \"Love in the Time of Money\" is...</td>\n",
       "      <td>positive</td>\n",
       "    </tr>\n",
       "  </tbody>\n",
       "</table>\n",
       "</div>"
      ],
      "text/plain": [
       "                                              review sentiment\n",
       "0  One of the other reviewers has mentioned that ...  positive\n",
       "1  A wonderful little production. <br /><br />The...  positive\n",
       "2  I thought this was a wonderful way to spend ti...  positive\n",
       "3  Basically there's a family where a little boy ...  negative\n",
       "4  Petter Mattei's \"Love in the Time of Money\" is...  positive"
      ]
     },
     "execution_count": 111,
     "metadata": {},
     "output_type": "execute_result"
    }
   ],
   "source": [
    "imdb = pd.read_csv(\"IMDB.csv\")\n",
    "imdb.head()"
   ]
  },
  {
   "cell_type": "code",
   "execution_count": 112,
   "metadata": {},
   "outputs": [],
   "source": [
    "# Preparing the dataset\n",
    "\n",
    "X, y = imdb[\"review\"], imdb[\"sentiment\"]\n",
    "\n",
    "Y = y.map({\"positive\": 1, \"negative\": 0})\n",
    "\n",
    "X_tr, X_t, Y_tr, Y_t = train_test_split(X, Y, test_size=0.2, random_state=42)\n",
    "\n",
    "X_val, X_t, Y_val, Y_t = train_test_split(X_t, Y_t, test_size=0.5, random_state=42)"
   ]
  },
  {
   "cell_type": "code",
   "execution_count": 113,
   "metadata": {},
   "outputs": [
    {
     "name": "stdout",
     "output_type": "stream",
     "text": [
      "(40000,) (5000,) (5000,)\n"
     ]
    }
   ],
   "source": [
    "print(X_tr.shape, X_val.shape, X_t.shape)"
   ]
  },
  {
   "cell_type": "code",
   "execution_count": 114,
   "metadata": {},
   "outputs": [
    {
     "name": "stdout",
     "output_type": "stream",
     "text": [
      "torch.Size([40000, 10000]) torch.Size([5000, 10000]) torch.Size([5000, 10000])\n"
     ]
    }
   ],
   "source": [
    "# Using the vectorizer\n",
    "\n",
    "X_tr_v = vec.transform(X_tr)\n",
    "X_val_v = vec.transform(X_val)\n",
    "X_t_v = vec.transform(X_t)\n",
    "\n",
    "X_tr_ten = torch.tensor(X_tr_v.toarray(), dtype=torch.float32).to(device)\n",
    "X_val_ten = torch.tensor(X_val_v.toarray(), dtype=torch.float32).to(device)\n",
    "X_t_ten = torch.tensor(X_t_v.toarray(), dtype=torch.float32).to(device)\n",
    "\n",
    "Y_tr_ten = torch.tensor(Y_tr.to_numpy(), dtype=torch.long).to(device)\n",
    "Y_val_ten = torch.tensor(Y_val.to_numpy(), dtype=torch.long).to(device)\n",
    "Y_t_ten = torch.tensor(Y_t.to_numpy(), dtype=torch.long).to(device)\n",
    "\n",
    "print(X_tr_ten.shape, X_val_ten.shape, X_t_ten.shape)"
   ]
  },
  {
   "cell_type": "code",
   "execution_count": 115,
   "metadata": {},
   "outputs": [],
   "source": [
    "# Datasets\n",
    "\n",
    "tr_data = TensorDataset(X_tr_ten, Y_tr_ten)\n",
    "val_data = TensorDataset(X_val_ten, Y_val_ten)\n",
    "t_data = TensorDataset(X_t_ten, Y_t_ten)\n",
    "\n",
    "tr_load = DataLoader(tr_data, batch_size=32, shuffle=True)\n",
    "val_load = DataLoader(val_data, batch_size=32, shuffle=False)\n",
    "t_load = DataLoader(t_data, batch_size=32, shuffle=False)\n"
   ]
  },
  {
   "cell_type": "code",
   "execution_count": 116,
   "metadata": {},
   "outputs": [
    {
     "data": {
      "application/vnd.jupyter.widget-view+json": {
       "model_id": "92a21e6b5ea74c4d837c7012333bb76d",
       "version_major": 2,
       "version_minor": 0
      },
      "text/plain": [
       "Epoch 1 Training:   0%|          | 0/1250 [00:00<?, ?it/s]"
      ]
     },
     "metadata": {},
     "output_type": "display_data"
    },
    {
     "data": {
      "application/vnd.jupyter.widget-view+json": {
       "model_id": "23d681e6396d4de88ee4b29043ef3280",
       "version_major": 2,
       "version_minor": 0
      },
      "text/plain": [
       "Epoch 1 Validation:   0%|          | 0/157 [00:00<?, ?it/s]"
      ]
     },
     "metadata": {},
     "output_type": "display_data"
    },
    {
     "name": "stdout",
     "output_type": "stream",
     "text": [
      "Epoch 1 Training Loss 0.4834136641383171 Validation Loss 0.27655746892189526 Validation Accuracy 0.8912\n"
     ]
    },
    {
     "data": {
      "application/vnd.jupyter.widget-view+json": {
       "model_id": "a3fd1fc682ec4e27987c450edb404ecf",
       "version_major": 2,
       "version_minor": 0
      },
      "text/plain": [
       "Epoch 2 Training:   0%|          | 0/1250 [00:00<?, ?it/s]"
      ]
     },
     "metadata": {},
     "output_type": "display_data"
    },
    {
     "data": {
      "application/vnd.jupyter.widget-view+json": {
       "model_id": "64e4c65665fb4ccab4f1c72b76f0cbcb",
       "version_major": 2,
       "version_minor": 0
      },
      "text/plain": [
       "Epoch 2 Validation:   0%|          | 0/157 [00:00<?, ?it/s]"
      ]
     },
     "metadata": {},
     "output_type": "display_data"
    },
    {
     "name": "stdout",
     "output_type": "stream",
     "text": [
      "Epoch 2 Training Loss 0.23631313167214393 Validation Loss 0.25703510808147445 Validation Accuracy 0.895\n"
     ]
    },
    {
     "data": {
      "application/vnd.jupyter.widget-view+json": {
       "model_id": "f3b6b6fe8d634c298a78250bb0b8b6eb",
       "version_major": 2,
       "version_minor": 0
      },
      "text/plain": [
       "Epoch 3 Training:   0%|          | 0/1250 [00:00<?, ?it/s]"
      ]
     },
     "metadata": {},
     "output_type": "display_data"
    },
    {
     "data": {
      "application/vnd.jupyter.widget-view+json": {
       "model_id": "0e77f0e08e0d4127b090388de3972cb7",
       "version_major": 2,
       "version_minor": 0
      },
      "text/plain": [
       "Epoch 3 Validation:   0%|          | 0/157 [00:00<?, ?it/s]"
      ]
     },
     "metadata": {},
     "output_type": "display_data"
    },
    {
     "name": "stdout",
     "output_type": "stream",
     "text": [
      "Epoch 3 Training Loss 0.16621420953422786 Validation Loss 0.28721269888055934 Validation Accuracy 0.8914\n"
     ]
    },
    {
     "data": {
      "application/vnd.jupyter.widget-view+json": {
       "model_id": "130f2ad65cd74d508c04e1ce2e3bad33",
       "version_major": 2,
       "version_minor": 0
      },
      "text/plain": [
       "Epoch 4 Training:   0%|          | 0/1250 [00:00<?, ?it/s]"
      ]
     },
     "metadata": {},
     "output_type": "display_data"
    },
    {
     "data": {
      "application/vnd.jupyter.widget-view+json": {
       "model_id": "22d7c4f211da4b1992e92f26f5fd8f3e",
       "version_major": 2,
       "version_minor": 0
      },
      "text/plain": [
       "Epoch 4 Validation:   0%|          | 0/157 [00:00<?, ?it/s]"
      ]
     },
     "metadata": {},
     "output_type": "display_data"
    },
    {
     "name": "stdout",
     "output_type": "stream",
     "text": [
      "Epoch 4 Training Loss 0.09060293928049505 Validation Loss 0.3857053003576436 Validation Accuracy 0.882\n"
     ]
    },
    {
     "data": {
      "application/vnd.jupyter.widget-view+json": {
       "model_id": "b1e02e4dfb334b88aeb308816c30af07",
       "version_major": 2,
       "version_minor": 0
      },
      "text/plain": [
       "Epoch 5 Training:   0%|          | 0/1250 [00:00<?, ?it/s]"
      ]
     },
     "metadata": {},
     "output_type": "display_data"
    },
    {
     "data": {
      "application/vnd.jupyter.widget-view+json": {
       "model_id": "345015bdef9446c38133fb97fa8bc8a7",
       "version_major": 2,
       "version_minor": 0
      },
      "text/plain": [
       "Epoch 5 Validation:   0%|          | 0/157 [00:00<?, ?it/s]"
      ]
     },
     "metadata": {},
     "output_type": "display_data"
    },
    {
     "name": "stdout",
     "output_type": "stream",
     "text": [
      "Epoch 5 Training Loss 0.04499585728188977 Validation Loss 0.4281211004141647 Validation Accuracy 0.8872\n"
     ]
    },
    {
     "data": {
      "application/vnd.jupyter.widget-view+json": {
       "model_id": "ffbb2b9153974c42bb37ad247d59c666",
       "version_major": 2,
       "version_minor": 0
      },
      "text/plain": [
       "Epoch 6 Training:   0%|          | 0/1250 [00:00<?, ?it/s]"
      ]
     },
     "metadata": {},
     "output_type": "display_data"
    },
    {
     "data": {
      "application/vnd.jupyter.widget-view+json": {
       "model_id": "e83f18f0abd1484386bfeea29b52e11d",
       "version_major": 2,
       "version_minor": 0
      },
      "text/plain": [
       "Epoch 6 Validation:   0%|          | 0/157 [00:00<?, ?it/s]"
      ]
     },
     "metadata": {},
     "output_type": "display_data"
    },
    {
     "name": "stdout",
     "output_type": "stream",
     "text": [
      "Epoch 6 Training Loss 0.02907130865768995 Validation Loss 0.477604986945535 Validation Accuracy 0.879\n"
     ]
    },
    {
     "data": {
      "application/vnd.jupyter.widget-view+json": {
       "model_id": "079dd5671af94be0a7c2e3dd1786875b",
       "version_major": 2,
       "version_minor": 0
      },
      "text/plain": [
       "Epoch 7 Training:   0%|          | 0/1250 [00:00<?, ?it/s]"
      ]
     },
     "metadata": {},
     "output_type": "display_data"
    },
    {
     "data": {
      "application/vnd.jupyter.widget-view+json": {
       "model_id": "9c08cf2d1ba4439b856cc47a605a5321",
       "version_major": 2,
       "version_minor": 0
      },
      "text/plain": [
       "Epoch 7 Validation:   0%|          | 0/157 [00:00<?, ?it/s]"
      ]
     },
     "metadata": {},
     "output_type": "display_data"
    },
    {
     "name": "stdout",
     "output_type": "stream",
     "text": [
      "Epoch 7 Training Loss 0.022095365169423165 Validation Loss 0.5478613762152351 Validation Accuracy 0.8864\n"
     ]
    },
    {
     "data": {
      "application/vnd.jupyter.widget-view+json": {
       "model_id": "c83cfdc045074e90b330db3ae254461d",
       "version_major": 2,
       "version_minor": 0
      },
      "text/plain": [
       "Epoch 8 Training:   0%|          | 0/1250 [00:00<?, ?it/s]"
      ]
     },
     "metadata": {},
     "output_type": "display_data"
    },
    {
     "data": {
      "application/vnd.jupyter.widget-view+json": {
       "model_id": "300c1f1e98f440c0b52fee406843195b",
       "version_major": 2,
       "version_minor": 0
      },
      "text/plain": [
       "Epoch 8 Validation:   0%|          | 0/157 [00:00<?, ?it/s]"
      ]
     },
     "metadata": {},
     "output_type": "display_data"
    },
    {
     "name": "stdout",
     "output_type": "stream",
     "text": [
      "Epoch 8 Training Loss 0.018309372275997885 Validation Loss 0.5606993553265751 Validation Accuracy 0.8828\n"
     ]
    },
    {
     "data": {
      "application/vnd.jupyter.widget-view+json": {
       "model_id": "51de3f789ba94ad9a949aa5b7220340e",
       "version_major": 2,
       "version_minor": 0
      },
      "text/plain": [
       "Epoch 9 Training:   0%|          | 0/1250 [00:00<?, ?it/s]"
      ]
     },
     "metadata": {},
     "output_type": "display_data"
    },
    {
     "data": {
      "application/vnd.jupyter.widget-view+json": {
       "model_id": "51bb8eb0940e4ec8973d4ee85b334fb1",
       "version_major": 2,
       "version_minor": 0
      },
      "text/plain": [
       "Epoch 9 Validation:   0%|          | 0/157 [00:00<?, ?it/s]"
      ]
     },
     "metadata": {},
     "output_type": "display_data"
    },
    {
     "name": "stdout",
     "output_type": "stream",
     "text": [
      "Epoch 9 Training Loss 0.0114825081418443 Validation Loss 0.6559044367090241 Validation Accuracy 0.8798\n"
     ]
    },
    {
     "data": {
      "application/vnd.jupyter.widget-view+json": {
       "model_id": "bfe5b304619540aab0663cc8b89805d5",
       "version_major": 2,
       "version_minor": 0
      },
      "text/plain": [
       "Epoch 10 Training:   0%|          | 0/1250 [00:00<?, ?it/s]"
      ]
     },
     "metadata": {},
     "output_type": "display_data"
    },
    {
     "data": {
      "application/vnd.jupyter.widget-view+json": {
       "model_id": "dba36b2ce98546e4afd837b88b062e5e",
       "version_major": 2,
       "version_minor": 0
      },
      "text/plain": [
       "Epoch 10 Validation:   0%|          | 0/157 [00:00<?, ?it/s]"
      ]
     },
     "metadata": {},
     "output_type": "display_data"
    },
    {
     "name": "stdout",
     "output_type": "stream",
     "text": [
      "Epoch 10 Training Loss 0.011904875891975825 Validation Loss 0.6371439734338872 Validation Accuracy 0.8828\n"
     ]
    }
   ],
   "source": [
    "# Training the model\n",
    "\n",
    "best_acc = float(0)\n",
    "tr_loss = []\n",
    "val_loss = []\n",
    "val_acc = []\n",
    "\n",
    "writer = SummaryWriter()\n",
    "\n",
    "for e in range(10): \n",
    "    model.train()\n",
    "    loss = 0\n",
    "\n",
    "    for X_b, Y_b in tqdm(tr_load, desc=\"Epoch \" + str(e + 1) + \" Training\"):\n",
    "        op.zero_grad()\n",
    "        out = model(X_b)\n",
    "        loss_ = criterion(out, Y_b)\n",
    "        loss_.backward()\n",
    "        op.step()\n",
    "        loss += loss_.item()\n",
    "\n",
    "    loss /= len(tr_load)\n",
    "    tr_loss.append(loss)\n",
    "\n",
    "    model.eval()\n",
    "\n",
    "    v_loss = 0.0\n",
    "\n",
    "    pr, t = [], []\n",
    "\n",
    "    with torch.no_grad():\n",
    "\n",
    "        for X_b, Y_b in tqdm(val_load, desc=\"Epoch \" + str(e + 1) + \" Validation\"):\n",
    "            out = model(X_b)\n",
    "            v_loss_ = criterion(out, Y_b)\n",
    "            v_loss += v_loss_.item()\n",
    "\n",
    "            pr.extend(torch.argmax(out, 1).cpu().numpy())\n",
    "            t.extend(Y_b.cpu().numpy())\n",
    "\n",
    "    v_loss /= len(val_load)\n",
    "    val_loss.append(v_loss)\n",
    "\n",
    "    val_acc_ = accuracy_score(t, pr)\n",
    "\n",
    "    val_acc.append(val_acc_)\n",
    "\n",
    "    print(\"Epoch\", e + 1, \"Training Loss\", loss, \"Validation Loss\", v_loss, \"Validation Accuracy\", val_acc_)\n",
    "\n",
    "    for name, param in model.named_parameters():\n",
    "        if param.requires_grad:\n",
    "            writer.add_histogram(str(name)+\"/weights\", param.data, e)\n",
    "            writer.add_histogram(str(name)+\"/grad\", param.grad, e)\n",
    "writer.close()"
   ]
  },
  {
   "cell_type": "code",
   "execution_count": 117,
   "metadata": {},
   "outputs": [
    {
     "data": {
      "text/html": [
       "\n",
       "      <iframe id=\"tensorboard-frame-25589efd80318053\" width=\"100%\" height=\"800\" frameborder=\"0\">\n",
       "      </iframe>\n",
       "      <script>\n",
       "        (function() {\n",
       "          const frame = document.getElementById(\"tensorboard-frame-25589efd80318053\");\n",
       "          const url = new URL(\"/\", window.location);\n",
       "          const port = 6009;\n",
       "          if (port) {\n",
       "            url.port = port;\n",
       "          }\n",
       "          frame.src = url;\n",
       "        })();\n",
       "      </script>\n",
       "    "
      ],
      "text/plain": [
       "<IPython.core.display.HTML object>"
      ]
     },
     "metadata": {},
     "output_type": "display_data"
    }
   ],
   "source": [
    "# Tensorboard\n",
    "\n",
    "tensorboard.notebook.start(\"--logdir runs --port 6009\")"
   ]
  },
  {
   "cell_type": "code",
   "execution_count": 118,
   "metadata": {},
   "outputs": [
    {
     "data": {
      "image/png": "[encoded data removed]",
      "text/plain": [
       "<Figure size 640x480 with 1 Axes>"
      ]
     },
     "metadata": {},
     "output_type": "display_data"
    }
   ],
   "source": [
    "# Plotting the losses\n",
    "\n",
    "epochs = range(1, 11)\n",
    "\n",
    "plt.plot(epochs, tr_loss, label=\"Training Loss\")\n",
    "plt.plot(epochs, val_loss, label=\"Validation Loss\")\n",
    "plt.legend()\n",
    "\n",
    "plt.show()"
   ]
  },
  {
   "cell_type": "code",
   "execution_count": 119,
   "metadata": {},
   "outputs": [
    {
     "data": {
      "image/png": "[encoded data removed]",
      "text/plain": [
       "<Figure size 640x480 with 1 Axes>"
      ]
     },
     "metadata": {},
     "output_type": "display_data"
    }
   ],
   "source": [
    "# Plotting the validation accuracy\n",
    "\n",
    "plt.plot(epochs, val_acc, label=\"Validation Accuracy\")\n",
    "plt.legend()\n",
    "plt.show()"
   ]
  },
  {
   "cell_type": "code",
   "execution_count": 120,
   "metadata": {},
   "outputs": [
    {
     "name": "stdout",
     "output_type": "stream",
     "text": [
      "Accuracy Score: 0.8828\n",
      "F1 Score: 0.8804081632653061\n",
      "Precision Score: 0.8991246352646937\n",
      "Recall Score: 0.8624550179928029\n"
     ]
    }
   ],
   "source": [
    "# Metrics\n",
    "\n",
    "print(\"Accuracy Score:\", accuracy_score(t, pr))\n",
    "print(\"F1 Score:\", f1_score(t, pr))\n",
    "print(\"Precision Score:\", precision_score(t, pr))\n",
    "print(\"Recall Score:\", recall_score(t, pr))\n"
   ]
  },
  {
   "cell_type": "code",
   "execution_count": 121,
   "metadata": {},
   "outputs": [
    {
     "data": {
      "text/plain": [
       "<Axes: >"
      ]
     },
     "execution_count": 121,
     "metadata": {},
     "output_type": "execute_result"
    },
    {
     "data": {
      "image/png": "[encoded data removed]",
      "text/plain": [
       "<Figure size 640x480 with 2 Axes>"
      ]
     },
     "metadata": {},
     "output_type": "display_data"
    }
   ],
   "source": [
    "# Confusion Matrix\n",
    "\n",
    "import seaborn as sns\n",
    "cm = confusion_matrix(t, pr)\n",
    "\n",
    "sns.heatmap(cm, annot=True, fmt=\"d\")"
   ]
  },
  {
   "cell_type": "code",
   "execution_count": 126,
   "metadata": {},
   "outputs": [
    {
     "data": {
      "application/vnd.jupyter.widget-view+json": {
       "model_id": "d4b3d72ce67a473ba9fbe66e121960b3",
       "version_major": 2,
       "version_minor": 0
      },
      "text/plain": [
       "Embedding Training:   0%|          | 0/160 [00:00<?, ?it/s]"
      ]
     },
     "metadata": {},
     "output_type": "display_data"
    },
    {
     "name": "stderr",
     "output_type": "stream",
     "text": [
      "C:\\Users\\harin\\AppData\\Local\\Temp\\ipykernel_17192\\181256285.py:16: UserWarning: To copy construct from a tensor, it is recommended to use sourceTensor.clone().detach() or sourceTensor.clone().detach().requires_grad_(True), rather than torch.tensor(sourceTensor).\n",
      "  X_tr_ten.append(torch.tensor(bert_embed(i)).to(device))\n"
     ]
    },
    {
     "data": {
      "application/vnd.jupyter.widget-view+json": {
       "model_id": "d648f9ad876e4684a19056f43929a70e",
       "version_major": 2,
       "version_minor": 0
      },
      "text/plain": [
       "Embedding Validation:   0%|          | 0/32 [00:00<?, ?it/s]"
      ]
     },
     "metadata": {},
     "output_type": "display_data"
    },
    {
     "name": "stderr",
     "output_type": "stream",
     "text": [
      "C:\\Users\\harin\\AppData\\Local\\Temp\\ipykernel_17192\\181256285.py:19: UserWarning: To copy construct from a tensor, it is recommended to use sourceTensor.clone().detach() or sourceTensor.clone().detach().requires_grad_(True), rather than torch.tensor(sourceTensor).\n",
      "  X_val_ten.append(torch.tensor(bert_embed(i)).to(device))\n"
     ]
    },
    {
     "data": {
      "application/vnd.jupyter.widget-view+json": {
       "model_id": "8e358763b8734e75881157cf7f93cc3a",
       "version_major": 2,
       "version_minor": 0
      },
      "text/plain": [
       "Embedding Testing:   0%|          | 0/32 [00:00<?, ?it/s]"
      ]
     },
     "metadata": {},
     "output_type": "display_data"
    },
    {
     "name": "stderr",
     "output_type": "stream",
     "text": [
      "C:\\Users\\harin\\AppData\\Local\\Temp\\ipykernel_17192\\181256285.py:22: UserWarning: To copy construct from a tensor, it is recommended to use sourceTensor.clone().detach() or sourceTensor.clone().detach().requires_grad_(True), rather than torch.tensor(sourceTensor).\n",
      "  X_t_ten.append(torch.tensor(bert_embed(i)).to(device))\n"
     ]
    }
   ],
   "source": [
    "# Embeddings\n",
    "\n",
    "X_tr_txt = X_tr.to_list()\n",
    "X_val_txt = X_val.to_list()\n",
    "X_t_txt = X_t.to_list()\n",
    "\n",
    "X_tr_txt = [X_tr_txt[i] for i in random.sample(range(0, len(X_tr_txt)), 160)]\n",
    "X_val_txt = [X_val_txt[i] for i in random.sample(range(0, len(X_val_txt)), 32)]\n",
    "X_t_txt = [X_t_txt[i] for i in random.sample(range(0, len(X_t_txt)), 32)]\n",
    "\n",
    "X_tr_ten = []\n",
    "X_val_ten = []\n",
    "X_t_ten = []\n",
    "\n",
    "for i in tqdm(X_tr_txt, desc=\"Embedding Training\"):\n",
    "    X_tr_ten.append(torch.tensor(bert_embed(i)).to(device))\n",
    "\n",
    "for i in tqdm(X_val_txt, desc=\"Embedding Validation\"):\n",
    "    X_val_ten.append(torch.tensor(bert_embed(i)).to(device))\n",
    "\n",
    "for i in tqdm(X_t_txt, desc=\"Embedding Testing\"):\n",
    "    X_t_ten.append(torch.tensor(bert_embed(i)).to(device))\n",
    "    \n"
   ]
  },
  {
   "cell_type": "code",
   "execution_count": 127,
   "metadata": {},
   "outputs": [
    {
     "name": "stdout",
     "output_type": "stream",
     "text": [
      "torch.Size([160, 768]) torch.Size([32, 768]) torch.Size([32, 768]) torch.Size([160]) torch.Size([32]) torch.Size([32])\n"
     ]
    }
   ],
   "source": [
    "# Tensors\n",
    "\n",
    "X_tr_ten = torch.cat(X_tr_ten, 0)\n",
    "X_val_ten = torch.cat(X_val_ten, 0)\n",
    "X_t_ten = torch.cat(X_t_ten, 0)\n",
    "\n",
    "y_tr_ten = [Y_tr.to_numpy()[i] for i in random.sample(range(0, len(Y_tr)), 160)]\n",
    "y_val_ten = [Y_val.to_numpy()[i] for i in random.sample(range(0, len(Y_val)), 32)]\n",
    "y_t_ten = [Y_t.to_numpy()[i] for i in random.sample(range(0, len(Y_t)), 32)]\n",
    "\n",
    "y_tr_ten = torch.tensor(y_tr_ten, dtype=torch.long).to(device)\n",
    "y_val_ten = torch.tensor(y_val_ten, dtype=torch.long).to(device)\n",
    "y_t_ten = torch.tensor(y_t_ten, dtype=torch.long).to(device)\n",
    "\n",
    "print(X_tr_ten.shape, X_val_ten.shape, X_t_ten.shape, y_tr_ten.shape, y_val_ten.shape, y_t_ten.shape)\n",
    "\n"
   ]
  },
  {
   "cell_type": "code",
   "execution_count": 128,
   "metadata": {},
   "outputs": [],
   "source": [
    "# Datasets\n",
    "\n",
    "tr_data = TensorDataset(X_tr_ten, y_tr_ten)\n",
    "val_data = TensorDataset(X_val_ten, y_val_ten)\n",
    "t_data = TensorDataset(X_t_ten, y_t_ten)\n",
    "\n",
    "tr_load = DataLoader(tr_data, batch_size=32, shuffle=True)\n",
    "val_load = DataLoader(val_data, batch_size=32, shuffle=False)\n",
    "t_load = DataLoader(t_data, batch_size=32, shuffle=False)\n"
   ]
  },
  {
   "cell_type": "code",
   "execution_count": 129,
   "metadata": {},
   "outputs": [
    {
     "name": "stdout",
     "output_type": "stream",
     "text": [
      "Checkpoint loaded from 2_best_checkpoint.json.gz\n"
     ]
    }
   ],
   "source": [
    "# Initializing model using best Model 2\n",
    "\n",
    "model_ = MLP_().to(device)\n",
    "load(model_, \"2_best_checkpoint.json.gz\")\n",
    "model_.to(device)\n",
    "\n",
    "op = Adam(model_.parameters(), lr=0.0001)\n"
   ]
  },
  {
   "cell_type": "code",
   "execution_count": 130,
   "metadata": {},
   "outputs": [
    {
     "data": {
      "application/vnd.jupyter.widget-view+json": {
       "model_id": "d195179c01714fe09b638510be4461a8",
       "version_major": 2,
       "version_minor": 0
      },
      "text/plain": [
       "Epoch 1 Training:   0%|          | 0/5 [00:00<?, ?it/s]"
      ]
     },
     "metadata": {},
     "output_type": "display_data"
    },
    {
     "data": {
      "application/vnd.jupyter.widget-view+json": {
       "model_id": "412805d032e6408a8f245150e0928965",
       "version_major": 2,
       "version_minor": 0
      },
      "text/plain": [
       "Epoch 1 Validation:   0%|          | 0/1 [00:00<?, ?it/s]"
      ]
     },
     "metadata": {},
     "output_type": "display_data"
    },
    {
     "name": "stdout",
     "output_type": "stream",
     "text": [
      "Epoch 1 Training Loss 0.697314727306366 Validation Loss 0.678505539894104 Validation Accuracy 0.625\n"
     ]
    },
    {
     "data": {
      "application/vnd.jupyter.widget-view+json": {
       "model_id": "6b6d49691e514adc8424796b4e0b0670",
       "version_major": 2,
       "version_minor": 0
      },
      "text/plain": [
       "Epoch 2 Training:   0%|          | 0/5 [00:00<?, ?it/s]"
      ]
     },
     "metadata": {},
     "output_type": "display_data"
    },
    {
     "data": {
      "application/vnd.jupyter.widget-view+json": {
       "model_id": "3898b71b9842474880fbf631028526c5",
       "version_major": 2,
       "version_minor": 0
      },
      "text/plain": [
       "Epoch 2 Validation:   0%|          | 0/1 [00:00<?, ?it/s]"
      ]
     },
     "metadata": {},
     "output_type": "display_data"
    },
    {
     "name": "stdout",
     "output_type": "stream",
     "text": [
      "Epoch 2 Training Loss 0.6955105304718018 Validation Loss 0.678753137588501 Validation Accuracy 0.625\n"
     ]
    },
    {
     "data": {
      "application/vnd.jupyter.widget-view+json": {
       "model_id": "4cd058638c5e4d1f8e6195b5e09ecd25",
       "version_major": 2,
       "version_minor": 0
      },
      "text/plain": [
       "Epoch 3 Training:   0%|          | 0/5 [00:00<?, ?it/s]"
      ]
     },
     "metadata": {},
     "output_type": "display_data"
    },
    {
     "data": {
      "application/vnd.jupyter.widget-view+json": {
       "model_id": "4aaf043604bf40c5bc57c840545f87be",
       "version_major": 2,
       "version_minor": 0
      },
      "text/plain": [
       "Epoch 3 Validation:   0%|          | 0/1 [00:00<?, ?it/s]"
      ]
     },
     "metadata": {},
     "output_type": "display_data"
    },
    {
     "name": "stdout",
     "output_type": "stream",
     "text": [
      "Epoch 3 Training Loss 0.6961224198341369 Validation Loss 0.6794660687446594 Validation Accuracy 0.625\n"
     ]
    },
    {
     "data": {
      "application/vnd.jupyter.widget-view+json": {
       "model_id": "bd20c210036d44449b4e6883afebec10",
       "version_major": 2,
       "version_minor": 0
      },
      "text/plain": [
       "Epoch 4 Training:   0%|          | 0/5 [00:00<?, ?it/s]"
      ]
     },
     "metadata": {},
     "output_type": "display_data"
    },
    {
     "data": {
      "application/vnd.jupyter.widget-view+json": {
       "model_id": "27fc30566a2249d1885aaaf664f004e9",
       "version_major": 2,
       "version_minor": 0
      },
      "text/plain": [
       "Epoch 4 Validation:   0%|          | 0/1 [00:00<?, ?it/s]"
      ]
     },
     "metadata": {},
     "output_type": "display_data"
    },
    {
     "name": "stdout",
     "output_type": "stream",
     "text": [
      "Epoch 4 Training Loss 0.6961287379264831 Validation Loss 0.6805287599563599 Validation Accuracy 0.625\n"
     ]
    },
    {
     "data": {
      "application/vnd.jupyter.widget-view+json": {
       "model_id": "4b0240d1fe2a48d8818aee4a95c65797",
       "version_major": 2,
       "version_minor": 0
      },
      "text/plain": [
       "Epoch 5 Training:   0%|          | 0/5 [00:00<?, ?it/s]"
      ]
     },
     "metadata": {},
     "output_type": "display_data"
    },
    {
     "data": {
      "application/vnd.jupyter.widget-view+json": {
       "model_id": "fed998e562754c55abe695c448bdd842",
       "version_major": 2,
       "version_minor": 0
      },
      "text/plain": [
       "Epoch 5 Validation:   0%|          | 0/1 [00:00<?, ?it/s]"
      ]
     },
     "metadata": {},
     "output_type": "display_data"
    },
    {
     "name": "stdout",
     "output_type": "stream",
     "text": [
      "Epoch 5 Training Loss 0.6954767227172851 Validation Loss 0.6813626885414124 Validation Accuracy 0.625\n"
     ]
    },
    {
     "data": {
      "application/vnd.jupyter.widget-view+json": {
       "model_id": "163567c04bfb49c196f0b633e89a6fc3",
       "version_major": 2,
       "version_minor": 0
      },
      "text/plain": [
       "Epoch 6 Training:   0%|          | 0/5 [00:00<?, ?it/s]"
      ]
     },
     "metadata": {},
     "output_type": "display_data"
    },
    {
     "data": {
      "application/vnd.jupyter.widget-view+json": {
       "model_id": "2f04d336a2d84b7d903e5dae5531208b",
       "version_major": 2,
       "version_minor": 0
      },
      "text/plain": [
       "Epoch 6 Validation:   0%|          | 0/1 [00:00<?, ?it/s]"
      ]
     },
     "metadata": {},
     "output_type": "display_data"
    },
    {
     "name": "stdout",
     "output_type": "stream",
     "text": [
      "Epoch 6 Training Loss 0.6948786616325379 Validation Loss 0.6820771098136902 Validation Accuracy 0.625\n"
     ]
    },
    {
     "data": {
      "application/vnd.jupyter.widget-view+json": {
       "model_id": "6e4a780b3f814bdca349d2b5f0bba7fd",
       "version_major": 2,
       "version_minor": 0
      },
      "text/plain": [
       "Epoch 7 Training:   0%|          | 0/5 [00:00<?, ?it/s]"
      ]
     },
     "metadata": {},
     "output_type": "display_data"
    },
    {
     "data": {
      "application/vnd.jupyter.widget-view+json": {
       "model_id": "35d8c8dc547549c3839168f23dcc0c94",
       "version_major": 2,
       "version_minor": 0
      },
      "text/plain": [
       "Epoch 7 Validation:   0%|          | 0/1 [00:00<?, ?it/s]"
      ]
     },
     "metadata": {},
     "output_type": "display_data"
    },
    {
     "name": "stdout",
     "output_type": "stream",
     "text": [
      "Epoch 7 Training Loss 0.6940413594245911 Validation Loss 0.6828455924987793 Validation Accuracy 0.625\n"
     ]
    },
    {
     "data": {
      "application/vnd.jupyter.widget-view+json": {
       "model_id": "35a4a62ad609432fa04559517e413ee7",
       "version_major": 2,
       "version_minor": 0
      },
      "text/plain": [
       "Epoch 8 Training:   0%|          | 0/5 [00:00<?, ?it/s]"
      ]
     },
     "metadata": {},
     "output_type": "display_data"
    },
    {
     "data": {
      "application/vnd.jupyter.widget-view+json": {
       "model_id": "45090f3badcf49d48d992a88c42b40e6",
       "version_major": 2,
       "version_minor": 0
      },
      "text/plain": [
       "Epoch 8 Validation:   0%|          | 0/1 [00:00<?, ?it/s]"
      ]
     },
     "metadata": {},
     "output_type": "display_data"
    },
    {
     "name": "stdout",
     "output_type": "stream",
     "text": [
      "Epoch 8 Training Loss 0.695029103755951 Validation Loss 0.683784544467926 Validation Accuracy 0.625\n"
     ]
    },
    {
     "data": {
      "application/vnd.jupyter.widget-view+json": {
       "model_id": "b96bfa206518427389aaeefd423f5421",
       "version_major": 2,
       "version_minor": 0
      },
      "text/plain": [
       "Epoch 9 Training:   0%|          | 0/5 [00:00<?, ?it/s]"
      ]
     },
     "metadata": {},
     "output_type": "display_data"
    },
    {
     "data": {
      "application/vnd.jupyter.widget-view+json": {
       "model_id": "ba865c67b14d44079ce7312b6f727a49",
       "version_major": 2,
       "version_minor": 0
      },
      "text/plain": [
       "Epoch 9 Validation:   0%|          | 0/1 [00:00<?, ?it/s]"
      ]
     },
     "metadata": {},
     "output_type": "display_data"
    },
    {
     "name": "stdout",
     "output_type": "stream",
     "text": [
      "Epoch 9 Training Loss 0.6939526796340942 Validation Loss 0.6844648718833923 Validation Accuracy 0.625\n"
     ]
    },
    {
     "data": {
      "application/vnd.jupyter.widget-view+json": {
       "model_id": "35d6fcc2808042b49a892c00f9a900d1",
       "version_major": 2,
       "version_minor": 0
      },
      "text/plain": [
       "Epoch 10 Training:   0%|          | 0/5 [00:00<?, ?it/s]"
      ]
     },
     "metadata": {},
     "output_type": "display_data"
    },
    {
     "data": {
      "application/vnd.jupyter.widget-view+json": {
       "model_id": "dcbc1f1a57874248b6e0f659d51a1214",
       "version_major": 2,
       "version_minor": 0
      },
      "text/plain": [
       "Epoch 10 Validation:   0%|          | 0/1 [00:00<?, ?it/s]"
      ]
     },
     "metadata": {},
     "output_type": "display_data"
    },
    {
     "name": "stdout",
     "output_type": "stream",
     "text": [
      "Epoch 10 Training Loss 0.6932425260543823 Validation Loss 0.685064435005188 Validation Accuracy 0.625\n"
     ]
    }
   ],
   "source": [
    "# Model Training\n",
    "\n",
    "best_acc = float(0)\n",
    "tr_loss = []\n",
    "val_loss = []\n",
    "val_acc = []\n",
    "\n",
    "writer = SummaryWriter()\n",
    "\n",
    "for e in range(10):\n",
    "\n",
    "    model_.train()\n",
    "    loss = 0\n",
    "\n",
    "    for X_b, Y_b in tqdm(tr_load, desc=\"Epoch \" + str(e + 1) + \" Training\"):\n",
    "        op.zero_grad()\n",
    "        out = model_(X_b)\n",
    "        loss_ = criterion(out, Y_b)\n",
    "        loss_.backward()\n",
    "        op.step()\n",
    "        loss += loss_.item()\n",
    "\n",
    "    loss /= len(tr_load)\n",
    "\n",
    "    tr_loss.append(loss)\n",
    "\n",
    "    model_.eval()\n",
    "\n",
    "    v_loss = 0.0\n",
    "\n",
    "    pr, t = [], []\n",
    "\n",
    "    with torch.no_grad():\n",
    "        for X_b, Y_b in tqdm(val_load, desc=\"Epoch \" + str(e + 1) + \" Validation\"):\n",
    "            out = model_(X_b)\n",
    "            v_loss_ = criterion(out, Y_b)\n",
    "            v_loss += v_loss_.item()\n",
    "\n",
    "            pr.extend(torch.argmax(out, 1).cpu().numpy())\n",
    "            t.extend(Y_b.cpu().numpy())\n",
    "    \n",
    "    v_loss /= len(val_load)\n",
    "    val_loss.append(v_loss)\n",
    "\n",
    "    val_acc_ = accuracy_score(t, pr)\n",
    "    val_acc.append(val_acc_)\n",
    "\n",
    "    print(\"Epoch\", e + 1, \"Training Loss\", loss, \"Validation Loss\", v_loss, \"Validation Accuracy\", val_acc_)\n",
    "\n",
    "    for name, param in model_.named_parameters():\n",
    "        if param.requires_grad:\n",
    "            writer.add_histogram(str(name)+\"/weights\", param.data, e)\n",
    "            writer.add_histogram(str(name)+\"/grad\", param.grad, e)\n",
    "\n",
    "writer.close()"
   ]
  },
  {
   "cell_type": "code",
   "execution_count": 131,
   "metadata": {},
   "outputs": [
    {
     "data": {
      "image/png": "[encoded data removed]",
      "text/plain": [
       "<Figure size 640x480 with 1 Axes>"
      ]
     },
     "metadata": {},
     "output_type": "display_data"
    }
   ],
   "source": [
    "# Plotting the losses\n",
    "\n",
    "epochs = range(1, 11)\n",
    "plt.plot(epochs, tr_loss, label=\"Training Loss\")\n",
    "plt.plot(epochs, val_loss, label=\"Validation Loss\")\n",
    "plt.legend()\n",
    "plt.show()\n"
   ]
  },
  {
   "cell_type": "code",
   "execution_count": 132,
   "metadata": {},
   "outputs": [
    {
     "data": {
      "image/png": "[encoded data removed]",
      "text/plain": [
       "<Figure size 640x480 with 1 Axes>"
      ]
     },
     "metadata": {},
     "output_type": "display_data"
    }
   ],
   "source": [
    "# Plotting the validation accuracy\n",
    "\n",
    "plt.plot(epochs, val_acc, label=\"Validation Accuracy\")\n",
    "plt.legend()\n",
    "plt.show()\n"
   ]
  },
  {
   "cell_type": "code",
   "execution_count": 133,
   "metadata": {},
   "outputs": [
    {
     "name": "stdout",
     "output_type": "stream",
     "text": [
      "Accuracy Score: 0.625\n",
      "F1 Score: 0.0\n",
      "Precision Score: 0.0\n",
      "Recall Score: 0.0\n"
     ]
    },
    {
     "name": "stderr",
     "output_type": "stream",
     "text": [
      "C:\\Users\\harin\\AppData\\Local\\Packages\\PythonSoftwareFoundation.Python.3.13_qbz5n2kfra8p0\\LocalCache\\local-packages\\Python313\\site-packages\\sklearn\\metrics\\_classification.py:1565: UndefinedMetricWarning: Precision is ill-defined and being set to 0.0 due to no predicted samples. Use `zero_division` parameter to control this behavior.\n",
      "  _warn_prf(average, modifier, f\"{metric.capitalize()} is\", len(result))\n"
     ]
    }
   ],
   "source": [
    "# Metrics\n",
    "\n",
    "print(\"Accuracy Score:\", accuracy_score(t, pr))\n",
    "print(\"F1 Score:\", f1_score(t, pr))\n",
    "print(\"Precision Score:\", precision_score(t, pr))\n",
    "print(\"Recall Score:\", recall_score(t, pr))\n"
   ]
  },
  {
   "cell_type": "code",
   "execution_count": 134,
   "metadata": {},
   "outputs": [
    {
     "data": {
      "text/plain": [
       "<Axes: >"
      ]
     },
     "execution_count": 134,
     "metadata": {},
     "output_type": "execute_result"
    },
    {
     "data": {
      "image/png": "[encoded data removed]",
      "text/plain": [
       "<Figure size 640x480 with 2 Axes>"
      ]
     },
     "metadata": {},
     "output_type": "display_data"
    }
   ],
   "source": [
    "# Confusion Matrix\n",
    "\n",
    "cm = confusion_matrix(t, pr)\n",
    "sns.heatmap(cm, annot=True, fmt=\"d\")"
   ]
  },
  {
   "cell_type": "code",
   "execution_count": 135,
   "metadata": {},
   "outputs": [
    {
     "data": {
      "text/html": [
       "\n",
       "      <iframe id=\"tensorboard-frame-481e75c6f5fac2f2\" width=\"100%\" height=\"800\" frameborder=\"0\">\n",
       "      </iframe>\n",
       "      <script>\n",
       "        (function() {\n",
       "          const frame = document.getElementById(\"tensorboard-frame-481e75c6f5fac2f2\");\n",
       "          const url = new URL(\"/\", window.location);\n",
       "          const port = 6010;\n",
       "          if (port) {\n",
       "            url.port = port;\n",
       "          }\n",
       "          frame.src = url;\n",
       "        })();\n",
       "      </script>\n",
       "    "
      ],
      "text/plain": [
       "<IPython.core.display.HTML object>"
      ]
     },
     "metadata": {},
     "output_type": "display_data"
    }
   ],
   "source": [
    "# Tensorboard\n",
    "\n",
    "tensorboard.notebook.start(\"--logdir runs --port 6010\")"
   ]
  },
  {
   "cell_type": "code",
   "execution_count": null,
   "metadata": {},
   "outputs": [],
   "source": []
  }
 ],
 "metadata": {
  "kernelspec": {
   "display_name": "Python 3",
   "language": "python",
   "name": "python3"
  },
  "language_info": {
   "codemirror_mode": {
    "name": "ipython",
    "version": 3
   },
   "file_extension": ".py",
   "mimetype": "text/x-python",
   "name": "python",
   "nbconvert_exporter": "python",
   "pygments_lexer": "ipython3",
   "version": "3.13.2"
  }
 },
 "nbformat": 4,
 "nbformat_minor": 2
}
